{
 "cells": [
  {
   "cell_type": "code",
   "execution_count": 1,
   "id": "74d9bd0d",
   "metadata": {
    "id": "74d9bd0d"
   },
   "outputs": [],
   "source": [
    "import pandas as pd\n",
    "import re\n",
    "import numpy as np\n",
    "import matplotlib.pyplot as plt\n",
    "import seaborn as sns"
   ]
  },
  {
   "cell_type": "code",
   "execution_count": 2,
   "id": "a9ad0a01",
   "metadata": {
    "id": "a9ad0a01"
   },
   "outputs": [
    {
     "data": {
      "text/html": [
       "<div>\n",
       "<style scoped>\n",
       "    .dataframe tbody tr th:only-of-type {\n",
       "        vertical-align: middle;\n",
       "    }\n",
       "\n",
       "    .dataframe tbody tr th {\n",
       "        vertical-align: top;\n",
       "    }\n",
       "\n",
       "    .dataframe thead th {\n",
       "        text-align: right;\n",
       "    }\n",
       "</style>\n",
       "<table border=\"1\" class=\"dataframe\">\n",
       "  <thead>\n",
       "    <tr style=\"text-align: right;\">\n",
       "      <th></th>\n",
       "      <th>id</th>\n",
       "      <th>gender</th>\n",
       "      <th>AgeGroup</th>\n",
       "      <th>Height</th>\n",
       "      <th>Weight</th>\n",
       "      <th>Foot_Size</th>\n",
       "      <th>Product_Size</th>\n",
       "      <th>Rating</th>\n",
       "      <th>Item_Code</th>\n",
       "      <th>Sum_Code</th>\n",
       "      <th>Item_Name</th>\n",
       "      <th>Tags</th>\n",
       "      <th>Dept</th>\n",
       "    </tr>\n",
       "  </thead>\n",
       "  <tbody>\n",
       "    <tr>\n",
       "      <th>0</th>\n",
       "      <td>439847_1</td>\n",
       "      <td>男性</td>\n",
       "      <td>NaN</td>\n",
       "      <td>身長: 121 - 130cm</td>\n",
       "      <td>NaN</td>\n",
       "      <td>NaN</td>\n",
       "      <td>購入サイズ: 130</td>\n",
       "      <td>4</td>\n",
       "      <td>439847</td>\n",
       "      <td>11727Z</td>\n",
       "      <td>K's ultra stretch denim slim fit pants</td>\n",
       "      <td>bottoms, ultra stretch</td>\n",
       "      <td>11</td>\n",
       "    </tr>\n",
       "    <tr>\n",
       "      <th>1</th>\n",
       "      <td>439847_2</td>\n",
       "      <td>女性</td>\n",
       "      <td>10 - 14歳</td>\n",
       "      <td>NaN</td>\n",
       "      <td>NaN</td>\n",
       "      <td>NaN</td>\n",
       "      <td>購入サイズ: 150</td>\n",
       "      <td>4</td>\n",
       "      <td>439847</td>\n",
       "      <td>11727Z</td>\n",
       "      <td>K's ultra stretch denim slim fit pants</td>\n",
       "      <td>bottoms, ultra stretch</td>\n",
       "      <td>11</td>\n",
       "    </tr>\n",
       "    <tr>\n",
       "      <th>2</th>\n",
       "      <td>439847_3</td>\n",
       "      <td>男性</td>\n",
       "      <td>NaN</td>\n",
       "      <td>身長: 151 - 155cm</td>\n",
       "      <td>NaN</td>\n",
       "      <td>NaN</td>\n",
       "      <td>購入サイズ: 160</td>\n",
       "      <td>4</td>\n",
       "      <td>439847</td>\n",
       "      <td>11727Z</td>\n",
       "      <td>K's ultra stretch denim slim fit pants</td>\n",
       "      <td>bottoms, ultra stretch</td>\n",
       "      <td>11</td>\n",
       "    </tr>\n",
       "    <tr>\n",
       "      <th>3</th>\n",
       "      <td>439847_4</td>\n",
       "      <td>女性</td>\n",
       "      <td>NaN</td>\n",
       "      <td>NaN</td>\n",
       "      <td>NaN</td>\n",
       "      <td>NaN</td>\n",
       "      <td>購入サイズ: 130</td>\n",
       "      <td>5</td>\n",
       "      <td>439847</td>\n",
       "      <td>11727Z</td>\n",
       "      <td>K's ultra stretch denim slim fit pants</td>\n",
       "      <td>bottoms, ultra stretch</td>\n",
       "      <td>11</td>\n",
       "    </tr>\n",
       "    <tr>\n",
       "      <th>4</th>\n",
       "      <td>439847_5</td>\n",
       "      <td>男性</td>\n",
       "      <td>7 - 9歳</td>\n",
       "      <td>身長: 111 - 120cm</td>\n",
       "      <td>体重: 16 - 20kg</td>\n",
       "      <td>足のサイズ: 21.5cm以下</td>\n",
       "      <td>購入サイズ: 120</td>\n",
       "      <td>5</td>\n",
       "      <td>439847</td>\n",
       "      <td>11727Z</td>\n",
       "      <td>K's ultra stretch denim slim fit pants</td>\n",
       "      <td>bottoms, ultra stretch</td>\n",
       "      <td>11</td>\n",
       "    </tr>\n",
       "  </tbody>\n",
       "</table>\n",
       "</div>"
      ],
      "text/plain": [
       "         id gender  AgeGroup           Height         Weight        Foot_Size  \\\n",
       "0  439847_1     男性       NaN  身長: 121 - 130cm            NaN              NaN   \n",
       "1  439847_2     女性  10 - 14歳              NaN            NaN              NaN   \n",
       "2  439847_3     男性       NaN  身長: 151 - 155cm            NaN              NaN   \n",
       "3  439847_4     女性       NaN              NaN            NaN              NaN   \n",
       "4  439847_5     男性    7 - 9歳  身長: 111 - 120cm  体重: 16 - 20kg  足のサイズ: 21.5cm以下   \n",
       "\n",
       "  Product_Size  Rating  Item_Code Sum_Code  \\\n",
       "0   購入サイズ: 130       4     439847   11727Z   \n",
       "1   購入サイズ: 150       4     439847   11727Z   \n",
       "2   購入サイズ: 160       4     439847   11727Z   \n",
       "3   購入サイズ: 130       5     439847   11727Z   \n",
       "4   購入サイズ: 120       5     439847   11727Z   \n",
       "\n",
       "                                Item_Name                    Tags  Dept  \n",
       "0  K's ultra stretch denim slim fit pants  bottoms, ultra stretch    11  \n",
       "1  K's ultra stretch denim slim fit pants  bottoms, ultra stretch    11  \n",
       "2  K's ultra stretch denim slim fit pants  bottoms, ultra stretch    11  \n",
       "3  K's ultra stretch denim slim fit pants  bottoms, ultra stretch    11  \n",
       "4  K's ultra stretch denim slim fit pants  bottoms, ultra stretch    11  "
      ]
     },
     "execution_count": 2,
     "metadata": {},
     "output_type": "execute_result"
    }
   ],
   "source": [
    "#from google.colab import drive\n",
    "\n",
    "#drive.mount('/content/gdrive')\n",
    "df = pd.read_csv('df.csv')\n",
    "df.head()\n"
   ]
  },
  {
   "cell_type": "code",
   "execution_count": 3,
   "id": "40e50312",
   "metadata": {
    "id": "40e50312"
   },
   "outputs": [],
   "source": [
    "df.columns=['ID', 'Gender', 'Age_Group', 'Height', 'Weight', 'Foot_Size',\n",
    "       'Product_Size', 'Rating', 'Item_Code','Sum_Code','Item_Name','Tags','Dept']"
   ]
  },
  {
   "cell_type": "code",
   "execution_count": 4,
   "id": "4b9df0dc",
   "metadata": {
    "id": "4b9df0dc"
   },
   "outputs": [],
   "source": [
    "df['Height']=df['Height'].apply(lambda x:str(x).replace('身長: ','')).apply(lambda x:str(x).replace('\"',''))\n",
    "df['Weight']=df['Weight'].apply(lambda x:str(x).replace('体重: ',''))\n",
    "df['Product_Size']=df['Product_Size'].apply(lambda x:str(x).replace('購入サイズ: ',''))\n",
    "df['Foot_Size']=df['Foot_Size'].apply(lambda x:str(x).replace('足のサイズ: ',''))\n",
    "\n"
   ]
  },
  {
   "cell_type": "code",
   "execution_count": 5,
   "id": "11cb83c7",
   "metadata": {
    "id": "11cb83c7"
   },
   "outputs": [],
   "source": [
    "df=df.replace('回答しない', np.nan)\n",
    "df=df.replace('その他', np.nan)\n",
    "df=df.replace('nan', np.nan)\n",
    "#df.drop('ID',axis=1,inplace=True)"
   ]
  },
  {
   "cell_type": "code",
   "execution_count": 6,
   "id": "7e06f6cf",
   "metadata": {
    "colab": {
     "base_uri": "https://localhost:8080/"
    },
    "executionInfo": {
     "elapsed": 29,
     "status": "ok",
     "timestamp": 1648025579534,
     "user": {
      "displayName": "Tsang Naomi",
      "photoUrl": "https://lh3.googleusercontent.com/a/default-user=s64",
      "userId": "01800822066559634505"
     },
     "user_tz": -480
    },
    "id": "7e06f6cf",
    "outputId": "4c06a75a-6547-4070-df1c-665edd06173b"
   },
   "outputs": [
    {
     "name": "stdout",
     "output_type": "stream",
     "text": [
      "<class 'pandas.core.frame.DataFrame'>\n",
      "RangeIndex: 47219 entries, 0 to 47218\n",
      "Data columns (total 13 columns):\n",
      " #   Column        Non-Null Count  Dtype \n",
      "---  ------        --------------  ----- \n",
      " 0   ID            47219 non-null  object\n",
      " 1   Gender        46666 non-null  object\n",
      " 2   Age_Group     39976 non-null  object\n",
      " 3   Height        40086 non-null  object\n",
      " 4   Weight        35481 non-null  object\n",
      " 5   Foot_Size     30444 non-null  object\n",
      " 6   Product_Size  46951 non-null  object\n",
      " 7   Rating        47219 non-null  int64 \n",
      " 8   Item_Code     47219 non-null  int64 \n",
      " 9   Sum_Code      47219 non-null  object\n",
      " 10  Item_Name     47219 non-null  object\n",
      " 11  Tags          47219 non-null  object\n",
      " 12  Dept          47219 non-null  int64 \n",
      "dtypes: int64(3), object(10)\n",
      "memory usage: 4.7+ MB\n"
     ]
    }
   ],
   "source": [
    "df.info()"
   ]
  },
  {
   "cell_type": "code",
   "execution_count": 7,
   "id": "5e4bdd78",
   "metadata": {
    "id": "5e4bdd78"
   },
   "outputs": [],
   "source": [
    "#df no Foot Size\n",
    "df_nfs=df.copy()\n",
    "df_nfs.drop('Foot_Size',axis=1,inplace=True)"
   ]
  },
  {
   "cell_type": "code",
   "execution_count": 8,
   "id": "02d8be27",
   "metadata": {
    "colab": {
     "base_uri": "https://localhost:8080/"
    },
    "executionInfo": {
     "elapsed": 15,
     "status": "ok",
     "timestamp": 1648025579536,
     "user": {
      "displayName": "Tsang Naomi",
      "photoUrl": "https://lh3.googleusercontent.com/a/default-user=s64",
      "userId": "01800822066559634505"
     },
     "user_tz": -480
    },
    "id": "02d8be27",
    "outputId": "086cdb15-13a1-47a4-a32d-d100e1862304"
   },
   "outputs": [
    {
     "name": "stdout",
     "output_type": "stream",
     "text": [
      "47219\n",
      "28663\n",
      "0.6070225968360194\n"
     ]
    }
   ],
   "source": [
    "#df data left_dropna\n",
    "print(len(df))\n",
    "print(len(df.dropna()))\n",
    "print(len(df.dropna())/len(df))\n",
    "df.dropna(inplace=True)\n"
   ]
  },
  {
   "cell_type": "code",
   "execution_count": 9,
   "id": "b8970553",
   "metadata": {
    "colab": {
     "base_uri": "https://localhost:8080/"
    },
    "executionInfo": {
     "elapsed": 11,
     "status": "ok",
     "timestamp": 1648025579536,
     "user": {
      "displayName": "Tsang Naomi",
      "photoUrl": "https://lh3.googleusercontent.com/a/default-user=s64",
      "userId": "01800822066559634505"
     },
     "user_tz": -480
    },
    "id": "b8970553",
    "outputId": "631451d5-a27c-4628-e11d-28489300d4c5",
    "scrolled": true
   },
   "outputs": [
    {
     "name": "stdout",
     "output_type": "stream",
     "text": [
      "47219\n",
      "33712\n",
      "0.7139498930515259\n"
     ]
    }
   ],
   "source": [
    "#data left_dropna\n",
    "print(len(df_nfs))\n",
    "print(len(df_nfs.dropna()))\n",
    "print(len(df_nfs.dropna())/len(df_nfs))\n",
    "df_nfs.dropna(inplace=True)\n"
   ]
  },
  {
   "cell_type": "code",
   "execution_count": 10,
   "id": "9c6d560e",
   "metadata": {
    "id": "9c6d560e"
   },
   "outputs": [],
   "source": [
    "# Data Cleaning\n",
    "\n",
    "def gender_eng(x):\n",
    "    if x=='男性':\n",
    "        return 'Male'\n",
    "    if x=='女性':\n",
    "        return 'Female'\n",
    "\n",
    "\n",
    "df['Gender']=df['Gender'].apply(lambda x:gender_eng(x))\n",
    "df_nfs['Gender']=df_nfs['Gender'].apply(lambda x:gender_eng(x))\n",
    "\n"
   ]
  },
  {
   "cell_type": "code",
   "execution_count": 11,
   "id": "eb76a880",
   "metadata": {
    "id": "eb76a880"
   },
   "outputs": [],
   "source": [
    "df=df[(df['Age_Group']!='10歳以下')&(df['Age_Group']!='0 - 6ヶ月')&(df['Age_Group']!='0 - 3ヶ月')&(df['Age_Group']!='7 - 9ヶ月')&(df['Age_Group']!='10 - 12ヶ月')&(df['Age_Group']!='7 - 12ヶ月')&(df['Age_Group']!='4 - 6ヶ月')]\n",
    "df_nfs=df_nfs[(df_nfs['Age_Group']!='10歳以下')&(df_nfs['Age_Group']!='0 - 6ヶ月')&(df_nfs['Age_Group']!='0 - 3ヶ月')&(df_nfs['Age_Group']!='7 - 9ヶ月')&(df_nfs['Age_Group']!='10 - 12ヶ月')&(df_nfs['Age_Group']!='7 - 12ヶ月')&(df_nfs['Age_Group']!='4 - 6ヶ月')]\n",
    "\n",
    "\n",
    "def Age_impute(x,y,z):\n",
    "    if x=='10代':\n",
    "        if z=='Female':\n",
    "            if y in ['141 - 150cm', '151 - 155cm', '131 - 140cm','121 - 130cm']:\n",
    "                return '10 - 14歳'\n",
    "            else:\n",
    "                return '15 - 19歳'\n",
    "        if z=='Male':\n",
    "            if y in ['91 - 95cm','141 - 150cm', '151 - 155cm', '131 - 140cm','121 - 130cm','156 - 160cm']:\n",
    "                return '10 - 14歳'\n",
    "            else:\n",
    "                return '15 - 19歳'\n",
    "            \n",
    "    if x=='10歳以下':\n",
    "        if z=='Female':\n",
    "            if y in ['141 - 150cm', '151 - 155cm', '131 - 140cm','121 - 130cm']:\n",
    "                return '10 - 14歳'\n",
    "            else:\n",
    "                return '15 - 19歳'\n",
    "        if z=='Male':\n",
    "            if y in ['91 - 95cm','141 - 150cm', '151 - 155cm', '131 - 140cm','121 - 130cm','156 - 160cm']:\n",
    "                return '10 - 14歳'\n",
    "            else:\n",
    "                return '15 - 19歳'\n",
    "    \n",
    "    \n",
    "    \n",
    "            \n",
    "    elif x=='3 - 6歳':\n",
    "        return '4 - 6歳'\n",
    "    \n",
    "    else:\n",
    "        return x\n",
    "\n",
    "df['Age_Group']=df.apply(lambda df:Age_impute(df['Age_Group'],df['Height'],df['Gender']), axis=1)\n",
    "df_nfs['Age_Group']=df_nfs.apply(lambda df_nfs:Age_impute(df_nfs['Age_Group'],df_nfs['Height'],df_nfs['Gender']), axis=1)\n",
    "\n",
    "\n",
    "def Age_eng(x):\n",
    "    if x=='10 - 14歳':\n",
    "        return '10-14'\n",
    "    elif x=='7 - 9歳':\n",
    "        return '7-9'\n",
    "    elif x=='4 - 6歳':\n",
    "        return '4-6'\n",
    "    elif x=='30代':\n",
    "        return '30-39'\n",
    "    elif x=='2 - 3歳':\n",
    "        return '2-3'\n",
    "    elif x=='40代':\n",
    "        return '40-49'\n",
    "    elif x=='20代':\n",
    "        return '20-29'\n",
    "    elif x=='15 - 19歳':\n",
    "        return '15-19'\n",
    "    elif x=='50代':\n",
    "        return '50-59'\n",
    "    elif x=='60代以上':\n",
    "        return '60<'\n",
    "    elif x=='13 - 24ヶ月':\n",
    "        return '<2'\n",
    "    else:\n",
    "        return x\n",
    "    \n",
    "df['Age_Group']=df['Age_Group'].apply(lambda x:Age_eng(x))    \n",
    "df_nfs['Age_Group']=df_nfs['Age_Group'].apply(lambda x:Age_eng(x))        \n",
    "    \n",
    "\n"
   ]
  },
  {
   "cell_type": "code",
   "execution_count": 12,
   "id": "359cabfa",
   "metadata": {
    "colab": {
     "base_uri": "https://localhost:8080/"
    },
    "executionInfo": {
     "elapsed": 14,
     "status": "ok",
     "timestamp": 1648025580831,
     "user": {
      "displayName": "Tsang Naomi",
      "photoUrl": "https://lh3.googleusercontent.com/a/default-user=s64",
      "userId": "01800822066559634505"
     },
     "user_tz": -480
    },
    "id": "359cabfa",
    "outputId": "73d2ab62-978b-41d5-98d7-399863e0608c"
   },
   "outputs": [
    {
     "data": {
      "text/plain": [
       "array(['111 - 120cm', '141 - 150cm', '121 - 130cm', '101 - 110cm',\n",
       "       '131 - 140cm', '91 - 100cm', '156 - 160cm', '151 - 155cm',\n",
       "       '161 - 165cm', '81 - 90cm', '166 - 170cm', '96 - 100cm',\n",
       "       '181 - 185cm', '171 - 175cm', '91 - 95cm', '71 - 80cm',\n",
       "       '176 - 180cm', '81 - 85cm', '86 - 90cm', '51 - 60cm', '61 - 70cm',\n",
       "       '65cm以下', '191cm以上', '50cm以下', '186 - 190cm', '76 - 80cm',\n",
       "       '66 - 70cm', '71 - 75cm', '181cm以上'], dtype=object)"
      ]
     },
     "execution_count": 12,
     "metadata": {},
     "output_type": "execute_result"
    }
   ],
   "source": [
    "df['Height'].unique()"
   ]
  },
  {
   "cell_type": "code",
   "execution_count": 13,
   "id": "954b400f",
   "metadata": {
    "colab": {
     "base_uri": "https://localhost:8080/"
    },
    "executionInfo": {
     "elapsed": 13,
     "status": "ok",
     "timestamp": 1648025580831,
     "user": {
      "displayName": "Tsang Naomi",
      "photoUrl": "https://lh3.googleusercontent.com/a/default-user=s64",
      "userId": "01800822066559634505"
     },
     "user_tz": -480
    },
    "id": "954b400f",
    "outputId": "1130a2b7-99b9-42dc-95a9-33402d4c3871"
   },
   "outputs": [],
   "source": [
    "df=df[(df['Height']!='81 - 85cm')&(df['Height']!='50cm以下')&(df['Height']!='65cm以下')&(df['Height']!='61 - 70cm')&(df['Height']!='51 - 60cm')&(df['Height']!='71 - 80cm')]\n",
    "df_nfs=df_nfs[(df_nfs['Height']!='81 - 85cm')&(df_nfs['Height']!='50cm以下')&(df_nfs['Height']!='65cm以下')&(df_nfs['Height']!='61 - 70cm')&(df_nfs['Height']!='51 - 60cm')&(df_nfs['Height']!='71 - 80cm')]\n",
    "\n",
    "def Height_impute(x):\n",
    "    if x in ['91 - 100cm','81 - 90cm','96 - 100cm','91 - 95cm','86 - 90cm', '66 - 70cm','71 - 75cm']:\n",
    "        return '100 cm >='\n",
    "    elif x in ['181cm以上','191cm以上', '186 - 190cm','181 - 185cm']:\n",
    "        return '>180 cm '\n",
    "    elif x=='76 - 80cm': \n",
    "        return '176 - 180cm'\n",
    "    else:\n",
    "        return x\n",
    "        \n",
    "df['Height']=df['Height'].apply(lambda x: Height_impute(x))\n",
    "df_nfs['Height']=df_nfs['Height'].apply(lambda x: Height_impute(x))"
   ]
  },
  {
   "cell_type": "code",
   "execution_count": 14,
   "id": "c802ece6",
   "metadata": {
    "id": "c802ece6"
   },
   "outputs": [],
   "source": [
    "df=df[(df['Weight']!='5kg以下')]\n",
    "df_nfs=df_nfs[(df_nfs['Weight']!='5kg以下')]\n",
    "\n",
    "\n",
    "def Weight_impute(x):\n",
    "    if x =='9 - 12kg':\n",
    "        return '13kg >'\n",
    "    else:\n",
    "        return x\n",
    "        \n",
    "df['Weight']=df['Weight'].apply(lambda x: Weight_impute(x))\n",
    "df_nfs['Weight']=df_nfs['Weight'].apply(lambda x: Weight_impute(x))"
   ]
  },
  {
   "cell_type": "code",
   "execution_count": 15,
   "id": "a8d97bed",
   "metadata": {},
   "outputs": [
    {
     "data": {
      "text/plain": [
       "array(['21.5cm以下', '23.0cm', '22.5cm', '25.0cm', '22.0cm', '24.5cm',\n",
       "       '23.5cm', '24.0cm', '25.5cm', '26.5cm', '27.5cm', '27.0cm',\n",
       "       '26.0cm', '29.0cm', '28.5cm', '28.0cm', '22.0cm以下', '30.0cm以上',\n",
       "       '29.5cm', '28.0cm以上'], dtype=object)"
      ]
     },
     "execution_count": 15,
     "metadata": {},
     "output_type": "execute_result"
    }
   ],
   "source": [
    "df.Foot_Size.unique()"
   ]
  },
  {
   "cell_type": "code",
   "execution_count": 16,
   "id": "68e92036",
   "metadata": {
    "id": "68e92036"
   },
   "outputs": [],
   "source": [
    "def Foot_Size_impute(x):\n",
    "    if x in ['21.5cm以下','22.0cm以下']:\n",
    "        return '22.0cm >'\n",
    "    if x in ['28.0cm以上','29.5cm','30.0cm以上','28.5cm','29.0cm']:\n",
    "        return '>28.0cm'\n",
    "    else:\n",
    "        return x\n",
    "    \n",
    "df['Foot_Size']=df['Foot_Size'].apply(lambda x: Foot_Size_impute(x))\n"
   ]
  },
  {
   "cell_type": "code",
   "execution_count": 17,
   "id": "12b3abd9",
   "metadata": {
    "id": "12b3abd9"
   },
   "outputs": [],
   "source": [
    "df_nfs.reset_index(drop=True,inplace=True)\n",
    "df.reset_index(drop=True,inplace=True)"
   ]
  },
  {
   "cell_type": "code",
   "execution_count": 18,
   "id": "8a57e9e6",
   "metadata": {
    "colab": {
     "base_uri": "https://localhost:8080/"
    },
    "executionInfo": {
     "elapsed": 339,
     "status": "ok",
     "timestamp": 1648025581164,
     "user": {
      "displayName": "Tsang Naomi",
      "photoUrl": "https://lh3.googleusercontent.com/a/default-user=s64",
      "userId": "01800822066559634505"
     },
     "user_tz": -480
    },
    "id": "8a57e9e6",
    "outputId": "c467b54f-8aba-4beb-fd9d-5425041445b3"
   },
   "outputs": [
    {
     "name": "stdout",
     "output_type": "stream",
     "text": [
      "<class 'pandas.core.frame.DataFrame'>\n",
      "RangeIndex: 28371 entries, 0 to 28370\n",
      "Data columns (total 13 columns):\n",
      " #   Column        Non-Null Count  Dtype \n",
      "---  ------        --------------  ----- \n",
      " 0   ID            28371 non-null  object\n",
      " 1   Gender        28371 non-null  object\n",
      " 2   Age_Group     28371 non-null  object\n",
      " 3   Height        28371 non-null  object\n",
      " 4   Weight        28371 non-null  object\n",
      " 5   Foot_Size     28371 non-null  object\n",
      " 6   Product_Size  28371 non-null  object\n",
      " 7   Rating        28371 non-null  int64 \n",
      " 8   Item_Code     28371 non-null  int64 \n",
      " 9   Sum_Code      28371 non-null  object\n",
      " 10  Item_Name     28371 non-null  object\n",
      " 11  Tags          28371 non-null  object\n",
      " 12  Dept          28371 non-null  int64 \n",
      "dtypes: int64(3), object(10)\n",
      "memory usage: 2.8+ MB\n"
     ]
    }
   ],
   "source": [
    "df.info()"
   ]
  },
  {
   "cell_type": "code",
   "execution_count": 19,
   "id": "2eae3143",
   "metadata": {
    "colab": {
     "base_uri": "https://localhost:8080/"
    },
    "executionInfo": {
     "elapsed": 12,
     "status": "ok",
     "timestamp": 1648025581165,
     "user": {
      "displayName": "Tsang Naomi",
      "photoUrl": "https://lh3.googleusercontent.com/a/default-user=s64",
      "userId": "01800822066559634505"
     },
     "user_tz": -480
    },
    "id": "2eae3143",
    "outputId": "bfc81758-5b1c-4ad5-9dde-61a051b8b8fd"
   },
   "outputs": [
    {
     "name": "stdout",
     "output_type": "stream",
     "text": [
      "<class 'pandas.core.frame.DataFrame'>\n",
      "RangeIndex: 33359 entries, 0 to 33358\n",
      "Data columns (total 12 columns):\n",
      " #   Column        Non-Null Count  Dtype \n",
      "---  ------        --------------  ----- \n",
      " 0   ID            33359 non-null  object\n",
      " 1   Gender        33359 non-null  object\n",
      " 2   Age_Group     33359 non-null  object\n",
      " 3   Height        33359 non-null  object\n",
      " 4   Weight        33359 non-null  object\n",
      " 5   Product_Size  33359 non-null  object\n",
      " 6   Rating        33359 non-null  int64 \n",
      " 7   Item_Code     33359 non-null  int64 \n",
      " 8   Sum_Code      33359 non-null  object\n",
      " 9   Item_Name     33359 non-null  object\n",
      " 10  Tags          33359 non-null  object\n",
      " 11  Dept          33359 non-null  int64 \n",
      "dtypes: int64(3), object(9)\n",
      "memory usage: 3.1+ MB\n"
     ]
    }
   ],
   "source": [
    "df_nfs.info()"
   ]
  },
  {
   "cell_type": "code",
   "execution_count": 20,
   "id": "454f4846",
   "metadata": {
    "colab": {
     "base_uri": "https://localhost:8080/"
    },
    "executionInfo": {
     "elapsed": 11,
     "status": "ok",
     "timestamp": 1648025581165,
     "user": {
      "displayName": "Tsang Naomi",
      "photoUrl": "https://lh3.googleusercontent.com/a/default-user=s64",
      "userId": "01800822066559634505"
     },
     "user_tz": -480
    },
    "id": "454f4846",
    "outputId": "bf95e5a8-28d7-4a15-87b4-df3252f49526"
   },
   "outputs": [
    {
     "data": {
      "text/plain": [
       "array(['7-9', '10-14', '4-6', '30-39', '2-3', '20-29', '40-49', '15-19',\n",
       "       '50-59', '60<', '<2'], dtype=object)"
      ]
     },
     "execution_count": 20,
     "metadata": {},
     "output_type": "execute_result"
    }
   ],
   "source": [
    "df_nfs['Age_Group'].unique()"
   ]
  },
  {
   "cell_type": "code",
   "execution_count": 21,
   "id": "9b56ecdd",
   "metadata": {
    "colab": {
     "base_uri": "https://localhost:8080/"
    },
    "executionInfo": {
     "elapsed": 7,
     "status": "ok",
     "timestamp": 1648025581166,
     "user": {
      "displayName": "Tsang Naomi",
      "photoUrl": "https://lh3.googleusercontent.com/a/default-user=s64",
      "userId": "01800822066559634505"
     },
     "user_tz": -480
    },
    "id": "9b56ecdd",
    "outputId": "3415f58c-0cf2-429c-a9fa-48e71169a514"
   },
   "outputs": [
    {
     "data": {
      "text/plain": [
       "ID              0\n",
       "Gender          0\n",
       "Age_Group       0\n",
       "Height          0\n",
       "Weight          0\n",
       "Foot_Size       0\n",
       "Product_Size    0\n",
       "Rating          0\n",
       "Item_Code       0\n",
       "Sum_Code        0\n",
       "Item_Name       0\n",
       "Tags            0\n",
       "Dept            0\n",
       "dtype: int64"
      ]
     },
     "execution_count": 21,
     "metadata": {},
     "output_type": "execute_result"
    }
   ],
   "source": [
    "df.isna().sum()"
   ]
  },
  {
   "cell_type": "code",
   "execution_count": 22,
   "id": "3a303a49",
   "metadata": {},
   "outputs": [
    {
     "data": {
      "text/plain": [
       "ID              0\n",
       "Gender          0\n",
       "Age_Group       0\n",
       "Height          0\n",
       "Weight          0\n",
       "Product_Size    0\n",
       "Rating          0\n",
       "Item_Code       0\n",
       "Sum_Code        0\n",
       "Item_Name       0\n",
       "Tags            0\n",
       "Dept            0\n",
       "dtype: int64"
      ]
     },
     "execution_count": 22,
     "metadata": {},
     "output_type": "execute_result"
    }
   ],
   "source": [
    "df_nfs.isna().sum()"
   ]
  },
  {
   "cell_type": "code",
   "execution_count": 23,
   "id": "017e0310",
   "metadata": {
    "colab": {
     "base_uri": "https://localhost:8080/",
     "height": 309
    },
    "executionInfo": {
     "elapsed": 36,
     "status": "ok",
     "timestamp": 1648025582770,
     "user": {
      "displayName": "Tsang Naomi",
      "photoUrl": "https://lh3.googleusercontent.com/a/default-user=s64",
      "userId": "01800822066559634505"
     },
     "user_tz": -480
    },
    "id": "017e0310",
    "outputId": "53e540e0-ffe1-441d-9588-9cc29258123f"
   },
   "outputs": [
    {
     "data": {
      "text/plain": [
       "<AxesSubplot:>"
      ]
     },
     "execution_count": 23,
     "metadata": {},
     "output_type": "execute_result"
    },
    {
     "data": {
      "image/png": "[encoded data removed]",
      "text/plain": [
       "<Figure size 432x288 with 1 Axes>"
      ]
     },
     "metadata": {
      "needs_background": "light"
     },
     "output_type": "display_data"
    }
   ],
   "source": [
    "df['Gender'].value_counts().plot.bar()"
   ]
  },
  {
   "cell_type": "code",
   "execution_count": 24,
   "id": "c8c2c9f4",
   "metadata": {
    "colab": {
     "base_uri": "https://localhost:8080/",
     "height": 309
    },
    "executionInfo": {
     "elapsed": 603,
     "status": "ok",
     "timestamp": 1648025583349,
     "user": {
      "displayName": "Tsang Naomi",
      "photoUrl": "https://lh3.googleusercontent.com/a/default-user=s64",
      "userId": "01800822066559634505"
     },
     "user_tz": -480
    },
    "id": "c8c2c9f4",
    "outputId": "236e97e0-be82-4d12-9ce7-8f3f8cfd9af5"
   },
   "outputs": [
    {
     "data": {
      "text/plain": [
       "<AxesSubplot:>"
      ]
     },
     "execution_count": 24,
     "metadata": {},
     "output_type": "execute_result"
    },
    {
     "data": {
      "image/png": "[encoded data removed]",
      "text/plain": [
       "<Figure size 432x288 with 1 Axes>"
      ]
     },
     "metadata": {
      "needs_background": "light"
     },
     "output_type": "display_data"
    }
   ],
   "source": [
    "df_nfs['Gender'].value_counts().plot.bar()"
   ]
  },
  {
   "cell_type": "code",
   "execution_count": 25,
   "id": "ce0f89cc",
   "metadata": {
    "id": "ce0f89cc"
   },
   "outputs": [],
   "source": [
    "df['Item_Sex']=df['Item_Name'].apply(lambda x:x[:1])\n",
    "df_nfs['Item_Sex']=df_nfs['Item_Name'].apply(lambda x:x[:1])"
   ]
  },
  {
   "cell_type": "code",
   "execution_count": 26,
   "id": "0ce391b7",
   "metadata": {
    "colab": {
     "base_uri": "https://localhost:8080/",
     "height": 659
    },
    "executionInfo": {
     "elapsed": 15,
     "status": "ok",
     "timestamp": 1648025587026,
     "user": {
      "displayName": "Tsang Naomi",
      "photoUrl": "https://lh3.googleusercontent.com/a/default-user=s64",
      "userId": "01800822066559634505"
     },
     "user_tz": -480
    },
    "id": "0ce391b7",
    "outputId": "cffdad91-e751-4124-b3ed-237eaffbb387"
   },
   "outputs": [
    {
     "data": {
      "text/html": [
       "<div>\n",
       "<style scoped>\n",
       "    .dataframe tbody tr th:only-of-type {\n",
       "        vertical-align: middle;\n",
       "    }\n",
       "\n",
       "    .dataframe tbody tr th {\n",
       "        vertical-align: top;\n",
       "    }\n",
       "\n",
       "    .dataframe thead th {\n",
       "        text-align: right;\n",
       "    }\n",
       "</style>\n",
       "<table border=\"1\" class=\"dataframe\">\n",
       "  <thead>\n",
       "    <tr style=\"text-align: right;\">\n",
       "      <th></th>\n",
       "      <th>ID</th>\n",
       "      <th>Gender</th>\n",
       "      <th>Age_Group</th>\n",
       "      <th>Height</th>\n",
       "      <th>Weight</th>\n",
       "      <th>Foot_Size</th>\n",
       "      <th>Product_Size</th>\n",
       "      <th>Rating</th>\n",
       "      <th>Item_Code</th>\n",
       "      <th>Sum_Code</th>\n",
       "      <th>Item_Name</th>\n",
       "      <th>Tags</th>\n",
       "      <th>Dept</th>\n",
       "      <th>Item_Sex</th>\n",
       "    </tr>\n",
       "  </thead>\n",
       "  <tbody>\n",
       "    <tr>\n",
       "      <th>0</th>\n",
       "      <td>439847_5</td>\n",
       "      <td>Male</td>\n",
       "      <td>7-9</td>\n",
       "      <td>111 - 120cm</td>\n",
       "      <td>16 - 20kg</td>\n",
       "      <td>22.0cm &gt;</td>\n",
       "      <td>120</td>\n",
       "      <td>5</td>\n",
       "      <td>439847</td>\n",
       "      <td>11727Z</td>\n",
       "      <td>K's ultra stretch denim slim fit pants</td>\n",
       "      <td>bottoms, ultra stretch</td>\n",
       "      <td>11</td>\n",
       "      <td>K</td>\n",
       "    </tr>\n",
       "    <tr>\n",
       "      <th>1</th>\n",
       "      <td>439847_6</td>\n",
       "      <td>Male</td>\n",
       "      <td>10-14</td>\n",
       "      <td>141 - 150cm</td>\n",
       "      <td>31 - 35kg</td>\n",
       "      <td>23.0cm</td>\n",
       "      <td>150</td>\n",
       "      <td>5</td>\n",
       "      <td>439847</td>\n",
       "      <td>11727Z</td>\n",
       "      <td>K's ultra stretch denim slim fit pants</td>\n",
       "      <td>bottoms, ultra stretch</td>\n",
       "      <td>11</td>\n",
       "      <td>K</td>\n",
       "    </tr>\n",
       "    <tr>\n",
       "      <th>2</th>\n",
       "      <td>439847_7</td>\n",
       "      <td>Male</td>\n",
       "      <td>4-6</td>\n",
       "      <td>111 - 120cm</td>\n",
       "      <td>21 - 25kg</td>\n",
       "      <td>22.0cm &gt;</td>\n",
       "      <td>120</td>\n",
       "      <td>5</td>\n",
       "      <td>439847</td>\n",
       "      <td>11727Z</td>\n",
       "      <td>K's ultra stretch denim slim fit pants</td>\n",
       "      <td>bottoms, ultra stretch</td>\n",
       "      <td>11</td>\n",
       "      <td>K</td>\n",
       "    </tr>\n",
       "    <tr>\n",
       "      <th>3</th>\n",
       "      <td>439847_9</td>\n",
       "      <td>Male</td>\n",
       "      <td>4-6</td>\n",
       "      <td>121 - 130cm</td>\n",
       "      <td>21 - 25kg</td>\n",
       "      <td>22.0cm &gt;</td>\n",
       "      <td>130</td>\n",
       "      <td>5</td>\n",
       "      <td>439847</td>\n",
       "      <td>11727Z</td>\n",
       "      <td>K's ultra stretch denim slim fit pants</td>\n",
       "      <td>bottoms, ultra stretch</td>\n",
       "      <td>11</td>\n",
       "      <td>K</td>\n",
       "    </tr>\n",
       "    <tr>\n",
       "      <th>4</th>\n",
       "      <td>439847_13</td>\n",
       "      <td>Male</td>\n",
       "      <td>30-39</td>\n",
       "      <td>101 - 110cm</td>\n",
       "      <td>16 - 20kg</td>\n",
       "      <td>22.0cm &gt;</td>\n",
       "      <td>120</td>\n",
       "      <td>5</td>\n",
       "      <td>439847</td>\n",
       "      <td>11727Z</td>\n",
       "      <td>K's ultra stretch denim slim fit pants</td>\n",
       "      <td>bottoms, ultra stretch</td>\n",
       "      <td>11</td>\n",
       "      <td>K</td>\n",
       "    </tr>\n",
       "    <tr>\n",
       "      <th>...</th>\n",
       "      <td>...</td>\n",
       "      <td>...</td>\n",
       "      <td>...</td>\n",
       "      <td>...</td>\n",
       "      <td>...</td>\n",
       "      <td>...</td>\n",
       "      <td>...</td>\n",
       "      <td>...</td>\n",
       "      <td>...</td>\n",
       "      <td>...</td>\n",
       "      <td>...</td>\n",
       "      <td>...</td>\n",
       "      <td>...</td>\n",
       "      <td>...</td>\n",
       "    </tr>\n",
       "    <tr>\n",
       "      <th>28366</th>\n",
       "      <td>445086_78</td>\n",
       "      <td>Female</td>\n",
       "      <td>40-49</td>\n",
       "      <td>161 - 165cm</td>\n",
       "      <td>56 - 60kg</td>\n",
       "      <td>24.5cm</td>\n",
       "      <td>24</td>\n",
       "      <td>5</td>\n",
       "      <td>445086</td>\n",
       "      <td>12588Z</td>\n",
       "      <td>M's cotton canvas lace up sneakers</td>\n",
       "      <td>sneakers, unisex</td>\n",
       "      <td>38</td>\n",
       "      <td>M</td>\n",
       "    </tr>\n",
       "    <tr>\n",
       "      <th>28367</th>\n",
       "      <td>445086_79</td>\n",
       "      <td>Female</td>\n",
       "      <td>40-49</td>\n",
       "      <td>161 - 165cm</td>\n",
       "      <td>61 - 65kg</td>\n",
       "      <td>24.5cm</td>\n",
       "      <td>24.5</td>\n",
       "      <td>4</td>\n",
       "      <td>445086</td>\n",
       "      <td>12588Z</td>\n",
       "      <td>M's cotton canvas lace up sneakers</td>\n",
       "      <td>sneakers, unisex</td>\n",
       "      <td>38</td>\n",
       "      <td>M</td>\n",
       "    </tr>\n",
       "    <tr>\n",
       "      <th>28368</th>\n",
       "      <td>445086_80</td>\n",
       "      <td>Male</td>\n",
       "      <td>50-59</td>\n",
       "      <td>171 - 175cm</td>\n",
       "      <td>61 - 65kg</td>\n",
       "      <td>25.5cm</td>\n",
       "      <td>25.5</td>\n",
       "      <td>4</td>\n",
       "      <td>445086</td>\n",
       "      <td>12588Z</td>\n",
       "      <td>M's cotton canvas lace up sneakers</td>\n",
       "      <td>sneakers, unisex</td>\n",
       "      <td>38</td>\n",
       "      <td>M</td>\n",
       "    </tr>\n",
       "    <tr>\n",
       "      <th>28369</th>\n",
       "      <td>445086_82</td>\n",
       "      <td>Male</td>\n",
       "      <td>40-49</td>\n",
       "      <td>166 - 170cm</td>\n",
       "      <td>66 - 70kg</td>\n",
       "      <td>25.5cm</td>\n",
       "      <td>25.5</td>\n",
       "      <td>4</td>\n",
       "      <td>445086</td>\n",
       "      <td>12588Z</td>\n",
       "      <td>M's cotton canvas lace up sneakers</td>\n",
       "      <td>sneakers, unisex</td>\n",
       "      <td>38</td>\n",
       "      <td>M</td>\n",
       "    </tr>\n",
       "    <tr>\n",
       "      <th>28370</th>\n",
       "      <td>445086_83</td>\n",
       "      <td>Male</td>\n",
       "      <td>20-29</td>\n",
       "      <td>166 - 170cm</td>\n",
       "      <td>61 - 65kg</td>\n",
       "      <td>27.5cm</td>\n",
       "      <td>27.5</td>\n",
       "      <td>5</td>\n",
       "      <td>445086</td>\n",
       "      <td>12588Z</td>\n",
       "      <td>M's cotton canvas lace up sneakers</td>\n",
       "      <td>sneakers, unisex</td>\n",
       "      <td>38</td>\n",
       "      <td>M</td>\n",
       "    </tr>\n",
       "  </tbody>\n",
       "</table>\n",
       "<p>28371 rows × 14 columns</p>\n",
       "</div>"
      ],
      "text/plain": [
       "              ID  Gender Age_Group       Height     Weight Foot_Size  \\\n",
       "0       439847_5    Male       7-9  111 - 120cm  16 - 20kg  22.0cm >   \n",
       "1       439847_6    Male     10-14  141 - 150cm  31 - 35kg    23.0cm   \n",
       "2       439847_7    Male       4-6  111 - 120cm  21 - 25kg  22.0cm >   \n",
       "3       439847_9    Male       4-6  121 - 130cm  21 - 25kg  22.0cm >   \n",
       "4      439847_13    Male     30-39  101 - 110cm  16 - 20kg  22.0cm >   \n",
       "...          ...     ...       ...          ...        ...       ...   \n",
       "28366  445086_78  Female     40-49  161 - 165cm  56 - 60kg    24.5cm   \n",
       "28367  445086_79  Female     40-49  161 - 165cm  61 - 65kg    24.5cm   \n",
       "28368  445086_80    Male     50-59  171 - 175cm  61 - 65kg    25.5cm   \n",
       "28369  445086_82    Male     40-49  166 - 170cm  66 - 70kg    25.5cm   \n",
       "28370  445086_83    Male     20-29  166 - 170cm  61 - 65kg    27.5cm   \n",
       "\n",
       "      Product_Size  Rating  Item_Code Sum_Code  \\\n",
       "0              120       5     439847   11727Z   \n",
       "1              150       5     439847   11727Z   \n",
       "2              120       5     439847   11727Z   \n",
       "3              130       5     439847   11727Z   \n",
       "4              120       5     439847   11727Z   \n",
       "...            ...     ...        ...      ...   \n",
       "28366           24       5     445086   12588Z   \n",
       "28367         24.5       4     445086   12588Z   \n",
       "28368         25.5       4     445086   12588Z   \n",
       "28369         25.5       4     445086   12588Z   \n",
       "28370         27.5       5     445086   12588Z   \n",
       "\n",
       "                                    Item_Name                    Tags  Dept  \\\n",
       "0      K's ultra stretch denim slim fit pants  bottoms, ultra stretch    11   \n",
       "1      K's ultra stretch denim slim fit pants  bottoms, ultra stretch    11   \n",
       "2      K's ultra stretch denim slim fit pants  bottoms, ultra stretch    11   \n",
       "3      K's ultra stretch denim slim fit pants  bottoms, ultra stretch    11   \n",
       "4      K's ultra stretch denim slim fit pants  bottoms, ultra stretch    11   \n",
       "...                                       ...                     ...   ...   \n",
       "28366      M's cotton canvas lace up sneakers        sneakers, unisex    38   \n",
       "28367      M's cotton canvas lace up sneakers        sneakers, unisex    38   \n",
       "28368      M's cotton canvas lace up sneakers        sneakers, unisex    38   \n",
       "28369      M's cotton canvas lace up sneakers        sneakers, unisex    38   \n",
       "28370      M's cotton canvas lace up sneakers        sneakers, unisex    38   \n",
       "\n",
       "      Item_Sex  \n",
       "0            K  \n",
       "1            K  \n",
       "2            K  \n",
       "3            K  \n",
       "4            K  \n",
       "...        ...  \n",
       "28366        M  \n",
       "28367        M  \n",
       "28368        M  \n",
       "28369        M  \n",
       "28370        M  \n",
       "\n",
       "[28371 rows x 14 columns]"
      ]
     },
     "execution_count": 26,
     "metadata": {},
     "output_type": "execute_result"
    }
   ],
   "source": [
    "df"
   ]
  },
  {
   "cell_type": "code",
   "execution_count": 27,
   "id": "60d12791",
   "metadata": {
    "colab": {
     "base_uri": "https://localhost:8080/",
     "height": 659
    },
    "executionInfo": {
     "elapsed": 13,
     "status": "ok",
     "timestamp": 1648025587026,
     "user": {
      "displayName": "Tsang Naomi",
      "photoUrl": "https://lh3.googleusercontent.com/a/default-user=s64",
      "userId": "01800822066559634505"
     },
     "user_tz": -480
    },
    "id": "60d12791",
    "outputId": "41a22143-47bc-4737-9e17-c883b570f591"
   },
   "outputs": [
    {
     "data": {
      "text/html": [
       "<div>\n",
       "<style scoped>\n",
       "    .dataframe tbody tr th:only-of-type {\n",
       "        vertical-align: middle;\n",
       "    }\n",
       "\n",
       "    .dataframe tbody tr th {\n",
       "        vertical-align: top;\n",
       "    }\n",
       "\n",
       "    .dataframe thead th {\n",
       "        text-align: right;\n",
       "    }\n",
       "</style>\n",
       "<table border=\"1\" class=\"dataframe\">\n",
       "  <thead>\n",
       "    <tr style=\"text-align: right;\">\n",
       "      <th></th>\n",
       "      <th>ID</th>\n",
       "      <th>Gender</th>\n",
       "      <th>Age_Group</th>\n",
       "      <th>Height</th>\n",
       "      <th>Weight</th>\n",
       "      <th>Product_Size</th>\n",
       "      <th>Rating</th>\n",
       "      <th>Item_Code</th>\n",
       "      <th>Sum_Code</th>\n",
       "      <th>Item_Name</th>\n",
       "      <th>Tags</th>\n",
       "      <th>Dept</th>\n",
       "      <th>Item_Sex</th>\n",
       "    </tr>\n",
       "  </thead>\n",
       "  <tbody>\n",
       "    <tr>\n",
       "      <th>0</th>\n",
       "      <td>439847_5</td>\n",
       "      <td>Male</td>\n",
       "      <td>7-9</td>\n",
       "      <td>111 - 120cm</td>\n",
       "      <td>16 - 20kg</td>\n",
       "      <td>120</td>\n",
       "      <td>5</td>\n",
       "      <td>439847</td>\n",
       "      <td>11727Z</td>\n",
       "      <td>K's ultra stretch denim slim fit pants</td>\n",
       "      <td>bottoms, ultra stretch</td>\n",
       "      <td>11</td>\n",
       "      <td>K</td>\n",
       "    </tr>\n",
       "    <tr>\n",
       "      <th>1</th>\n",
       "      <td>439847_6</td>\n",
       "      <td>Male</td>\n",
       "      <td>10-14</td>\n",
       "      <td>141 - 150cm</td>\n",
       "      <td>31 - 35kg</td>\n",
       "      <td>150</td>\n",
       "      <td>5</td>\n",
       "      <td>439847</td>\n",
       "      <td>11727Z</td>\n",
       "      <td>K's ultra stretch denim slim fit pants</td>\n",
       "      <td>bottoms, ultra stretch</td>\n",
       "      <td>11</td>\n",
       "      <td>K</td>\n",
       "    </tr>\n",
       "    <tr>\n",
       "      <th>2</th>\n",
       "      <td>439847_7</td>\n",
       "      <td>Male</td>\n",
       "      <td>4-6</td>\n",
       "      <td>111 - 120cm</td>\n",
       "      <td>21 - 25kg</td>\n",
       "      <td>120</td>\n",
       "      <td>5</td>\n",
       "      <td>439847</td>\n",
       "      <td>11727Z</td>\n",
       "      <td>K's ultra stretch denim slim fit pants</td>\n",
       "      <td>bottoms, ultra stretch</td>\n",
       "      <td>11</td>\n",
       "      <td>K</td>\n",
       "    </tr>\n",
       "    <tr>\n",
       "      <th>3</th>\n",
       "      <td>439847_9</td>\n",
       "      <td>Male</td>\n",
       "      <td>4-6</td>\n",
       "      <td>121 - 130cm</td>\n",
       "      <td>21 - 25kg</td>\n",
       "      <td>130</td>\n",
       "      <td>5</td>\n",
       "      <td>439847</td>\n",
       "      <td>11727Z</td>\n",
       "      <td>K's ultra stretch denim slim fit pants</td>\n",
       "      <td>bottoms, ultra stretch</td>\n",
       "      <td>11</td>\n",
       "      <td>K</td>\n",
       "    </tr>\n",
       "    <tr>\n",
       "      <th>4</th>\n",
       "      <td>439847_13</td>\n",
       "      <td>Male</td>\n",
       "      <td>30-39</td>\n",
       "      <td>101 - 110cm</td>\n",
       "      <td>16 - 20kg</td>\n",
       "      <td>120</td>\n",
       "      <td>5</td>\n",
       "      <td>439847</td>\n",
       "      <td>11727Z</td>\n",
       "      <td>K's ultra stretch denim slim fit pants</td>\n",
       "      <td>bottoms, ultra stretch</td>\n",
       "      <td>11</td>\n",
       "      <td>K</td>\n",
       "    </tr>\n",
       "    <tr>\n",
       "      <th>...</th>\n",
       "      <td>...</td>\n",
       "      <td>...</td>\n",
       "      <td>...</td>\n",
       "      <td>...</td>\n",
       "      <td>...</td>\n",
       "      <td>...</td>\n",
       "      <td>...</td>\n",
       "      <td>...</td>\n",
       "      <td>...</td>\n",
       "      <td>...</td>\n",
       "      <td>...</td>\n",
       "      <td>...</td>\n",
       "      <td>...</td>\n",
       "    </tr>\n",
       "    <tr>\n",
       "      <th>33354</th>\n",
       "      <td>445086_78</td>\n",
       "      <td>Female</td>\n",
       "      <td>40-49</td>\n",
       "      <td>161 - 165cm</td>\n",
       "      <td>56 - 60kg</td>\n",
       "      <td>24</td>\n",
       "      <td>5</td>\n",
       "      <td>445086</td>\n",
       "      <td>12588Z</td>\n",
       "      <td>M's cotton canvas lace up sneakers</td>\n",
       "      <td>sneakers, unisex</td>\n",
       "      <td>38</td>\n",
       "      <td>M</td>\n",
       "    </tr>\n",
       "    <tr>\n",
       "      <th>33355</th>\n",
       "      <td>445086_79</td>\n",
       "      <td>Female</td>\n",
       "      <td>40-49</td>\n",
       "      <td>161 - 165cm</td>\n",
       "      <td>61 - 65kg</td>\n",
       "      <td>24.5</td>\n",
       "      <td>4</td>\n",
       "      <td>445086</td>\n",
       "      <td>12588Z</td>\n",
       "      <td>M's cotton canvas lace up sneakers</td>\n",
       "      <td>sneakers, unisex</td>\n",
       "      <td>38</td>\n",
       "      <td>M</td>\n",
       "    </tr>\n",
       "    <tr>\n",
       "      <th>33356</th>\n",
       "      <td>445086_80</td>\n",
       "      <td>Male</td>\n",
       "      <td>50-59</td>\n",
       "      <td>171 - 175cm</td>\n",
       "      <td>61 - 65kg</td>\n",
       "      <td>25.5</td>\n",
       "      <td>4</td>\n",
       "      <td>445086</td>\n",
       "      <td>12588Z</td>\n",
       "      <td>M's cotton canvas lace up sneakers</td>\n",
       "      <td>sneakers, unisex</td>\n",
       "      <td>38</td>\n",
       "      <td>M</td>\n",
       "    </tr>\n",
       "    <tr>\n",
       "      <th>33357</th>\n",
       "      <td>445086_82</td>\n",
       "      <td>Male</td>\n",
       "      <td>40-49</td>\n",
       "      <td>166 - 170cm</td>\n",
       "      <td>66 - 70kg</td>\n",
       "      <td>25.5</td>\n",
       "      <td>4</td>\n",
       "      <td>445086</td>\n",
       "      <td>12588Z</td>\n",
       "      <td>M's cotton canvas lace up sneakers</td>\n",
       "      <td>sneakers, unisex</td>\n",
       "      <td>38</td>\n",
       "      <td>M</td>\n",
       "    </tr>\n",
       "    <tr>\n",
       "      <th>33358</th>\n",
       "      <td>445086_83</td>\n",
       "      <td>Male</td>\n",
       "      <td>20-29</td>\n",
       "      <td>166 - 170cm</td>\n",
       "      <td>61 - 65kg</td>\n",
       "      <td>27.5</td>\n",
       "      <td>5</td>\n",
       "      <td>445086</td>\n",
       "      <td>12588Z</td>\n",
       "      <td>M's cotton canvas lace up sneakers</td>\n",
       "      <td>sneakers, unisex</td>\n",
       "      <td>38</td>\n",
       "      <td>M</td>\n",
       "    </tr>\n",
       "  </tbody>\n",
       "</table>\n",
       "<p>33359 rows × 13 columns</p>\n",
       "</div>"
      ],
      "text/plain": [
       "              ID  Gender Age_Group       Height     Weight Product_Size  \\\n",
       "0       439847_5    Male       7-9  111 - 120cm  16 - 20kg          120   \n",
       "1       439847_6    Male     10-14  141 - 150cm  31 - 35kg          150   \n",
       "2       439847_7    Male       4-6  111 - 120cm  21 - 25kg          120   \n",
       "3       439847_9    Male       4-6  121 - 130cm  21 - 25kg          130   \n",
       "4      439847_13    Male     30-39  101 - 110cm  16 - 20kg          120   \n",
       "...          ...     ...       ...          ...        ...          ...   \n",
       "33354  445086_78  Female     40-49  161 - 165cm  56 - 60kg           24   \n",
       "33355  445086_79  Female     40-49  161 - 165cm  61 - 65kg         24.5   \n",
       "33356  445086_80    Male     50-59  171 - 175cm  61 - 65kg         25.5   \n",
       "33357  445086_82    Male     40-49  166 - 170cm  66 - 70kg         25.5   \n",
       "33358  445086_83    Male     20-29  166 - 170cm  61 - 65kg         27.5   \n",
       "\n",
       "       Rating  Item_Code Sum_Code                               Item_Name  \\\n",
       "0           5     439847   11727Z  K's ultra stretch denim slim fit pants   \n",
       "1           5     439847   11727Z  K's ultra stretch denim slim fit pants   \n",
       "2           5     439847   11727Z  K's ultra stretch denim slim fit pants   \n",
       "3           5     439847   11727Z  K's ultra stretch denim slim fit pants   \n",
       "4           5     439847   11727Z  K's ultra stretch denim slim fit pants   \n",
       "...       ...        ...      ...                                     ...   \n",
       "33354       5     445086   12588Z      M's cotton canvas lace up sneakers   \n",
       "33355       4     445086   12588Z      M's cotton canvas lace up sneakers   \n",
       "33356       4     445086   12588Z      M's cotton canvas lace up sneakers   \n",
       "33357       4     445086   12588Z      M's cotton canvas lace up sneakers   \n",
       "33358       5     445086   12588Z      M's cotton canvas lace up sneakers   \n",
       "\n",
       "                         Tags  Dept Item_Sex  \n",
       "0      bottoms, ultra stretch    11        K  \n",
       "1      bottoms, ultra stretch    11        K  \n",
       "2      bottoms, ultra stretch    11        K  \n",
       "3      bottoms, ultra stretch    11        K  \n",
       "4      bottoms, ultra stretch    11        K  \n",
       "...                       ...   ...      ...  \n",
       "33354        sneakers, unisex    38        M  \n",
       "33355        sneakers, unisex    38        M  \n",
       "33356        sneakers, unisex    38        M  \n",
       "33357        sneakers, unisex    38        M  \n",
       "33358        sneakers, unisex    38        M  \n",
       "\n",
       "[33359 rows x 13 columns]"
      ]
     },
     "execution_count": 27,
     "metadata": {},
     "output_type": "execute_result"
    }
   ],
   "source": [
    "df_nfs"
   ]
  },
  {
   "cell_type": "code",
   "execution_count": 29,
   "id": "71c6ad8f",
   "metadata": {},
   "outputs": [
    {
     "data": {
      "text/plain": [
       "array(['7-9', '10-14', '4-6', '30-39', '2-3', '20-29', '40-49', '15-19',\n",
       "       '50-59', '60<', '<2'], dtype=object)"
      ]
     },
     "execution_count": 29,
     "metadata": {},
     "output_type": "execute_result"
    }
   ],
   "source": [
    "df.Age_Group.unique()"
   ]
  },
  {
   "cell_type": "code",
   "execution_count": 30,
   "id": "838fce7e",
   "metadata": {},
   "outputs": [
    {
     "data": {
      "text/plain": [
       "array(['111 - 120cm', '141 - 150cm', '121 - 130cm', '101 - 110cm',\n",
       "       '131 - 140cm', '100 cm >=', '156 - 160cm', '151 - 155cm',\n",
       "       '161 - 165cm', '166 - 170cm', '>180 cm ', '171 - 175cm',\n",
       "       '176 - 180cm'], dtype=object)"
      ]
     },
     "execution_count": 30,
     "metadata": {},
     "output_type": "execute_result"
    }
   ],
   "source": [
    "df.Height.unique()"
   ]
  },
  {
   "cell_type": "code",
   "execution_count": 31,
   "id": "317767bd",
   "metadata": {},
   "outputs": [
    {
     "data": {
      "text/plain": [
       "array(['16 - 20kg', '31 - 35kg', '21 - 25kg', '26 - 30kg', '36 - 40kg',\n",
       "       '13 - 15kg', '13kg >', '41 - 45kg', '46 - 50kg', '51 - 55kg',\n",
       "       '91kg以上', '61 - 65kg', '56 - 60kg', '71 - 75kg', '66 - 70kg',\n",
       "       '81 - 85kg', '76 - 80kg', '86 - 90kg'], dtype=object)"
      ]
     },
     "execution_count": 31,
     "metadata": {},
     "output_type": "execute_result"
    }
   ],
   "source": [
    "df.Weight.unique()"
   ]
  },
  {
   "cell_type": "code",
   "execution_count": 32,
   "id": "d14cea4d",
   "metadata": {},
   "outputs": [
    {
     "data": {
      "text/plain": [
       "array(['22.0cm >', '23.0cm', '22.5cm', '25.0cm', '22.0cm', '24.5cm',\n",
       "       '23.5cm', '24.0cm', '25.5cm', '26.5cm', '27.5cm', '27.0cm',\n",
       "       '26.0cm', '>28.0cm', '28.0cm'], dtype=object)"
      ]
     },
     "execution_count": 32,
     "metadata": {},
     "output_type": "execute_result"
    }
   ],
   "source": [
    "df.Foot_Size.unique()"
   ]
  },
  {
   "cell_type": "markdown",
   "id": "a391f8c6",
   "metadata": {},
   "source": [
    "## Items chosen by Gender"
   ]
  },
  {
   "cell_type": "code",
   "execution_count": 33,
   "id": "509a3233",
   "metadata": {},
   "outputs": [
    {
     "data": {
      "text/plain": [
       "([<matplotlib.patches.Wedge at 0x7f8648b0ea60>,\n",
       "  <matplotlib.patches.Wedge at 0x7f8648b1d220>,\n",
       "  <matplotlib.patches.Wedge at 0x7f8648b1d940>,\n",
       "  <matplotlib.patches.Wedge at 0x7f8648b2b0a0>],\n",
       " [Text(1.0554422683381766, 0.30990582150899426, ''),\n",
       "  Text(0.5499999702695115, 0.9526279613277875, ''),\n",
       "  Text(-1.0861827821463492, 0.1738015068082446, ''),\n",
       "  Text(0.6661706591627486, -0.8753380220638591, '')],\n",
       " [Text(0.5756957827299144, 0.16903953900490593, '9%'),\n",
       "  Text(0.2999999837833699, 0.5196152516333385, '15%'),\n",
       "  Text(-0.5924633357161905, 0.09480082189540613, '46%'),\n",
       "  Text(0.36336581408877194, -0.47745710294392313, '29%')])"
      ]
     },
     "execution_count": 33,
     "metadata": {},
     "output_type": "execute_result"
    },
    {
     "data": {
      "image/png": "[encoded data removed]",
      "text/plain": [
       "<Figure size 576x432 with 1 Axes>"
      ]
     },
     "metadata": {},
     "output_type": "display_data"
    }
   ],
   "source": [
    "colors = ['lightpink','lightblue','steelblue','palevioletred']\n",
    "plt.figure(figsize=(8,6))\n",
    "plt.pie(df_nfs.groupby('Item_Sex').Item_Code.nunique(),colors=colors,autopct='%.0f%%')"
   ]
  },
  {
   "cell_type": "markdown",
   "id": "4ad1c987",
   "metadata": {},
   "source": [
    "## Men's items reviewed by gender"
   ]
  },
  {
   "cell_type": "code",
   "execution_count": 34,
   "id": "c1714188",
   "metadata": {},
   "outputs": [
    {
     "data": {
      "text/plain": [
       "([<matplotlib.patches.Wedge at 0x7f8648ce3250>,\n",
       "  <matplotlib.patches.Wedge at 0x7f8648ce39d0>],\n",
       " [Text(-1.0010691383753723, 0.4559172953424665, ''),\n",
       "  Text(1.0010691383753725, -0.4559172953424661, '')],\n",
       " [Text(-0.546037711841112, 0.24868216109589078, '86%'),\n",
       "  Text(0.5460377118411123, -0.24868216109589059, '14%')])"
      ]
     },
     "execution_count": 34,
     "metadata": {},
     "output_type": "execute_result"
    },
    {
     "data": {
      "image/png": "[encoded data removed]",
      "text/plain": [
       "<Figure size 576x432 with 1 Axes>"
      ]
     },
     "metadata": {},
     "output_type": "display_data"
    }
   ],
   "source": [
    "colors = ['steelblue','palevioletred']\n",
    "plt.figure(figsize=(8,6))\n",
    "plt.pie(df_nfs[df_nfs.Item_Sex=='M'].Gender.value_counts(),colors=colors,autopct='%.0f%%')"
   ]
  },
  {
   "cell_type": "code",
   "execution_count": 35,
   "id": "612622aa",
   "metadata": {},
   "outputs": [],
   "source": [
    "#Those 14% includes pants, implying special size chance for women pants and unisex strategy works for tops items"
   ]
  },
  {
   "cell_type": "markdown",
   "id": "5056e719",
   "metadata": {},
   "source": [
    "## Kids' items worn by adults"
   ]
  },
  {
   "cell_type": "code",
   "execution_count": 36,
   "id": "99b905a8",
   "metadata": {},
   "outputs": [
    {
     "name": "stderr",
     "output_type": "stream",
     "text": [
      "/var/folders/m_/f_txchcs4b580hs67jh00flh0000gn/T/ipykernel_6787/1856677104.py:3: SettingWithCopyWarning: \n",
      "A value is trying to be set on a copy of a slice from a DataFrame.\n",
      "Try using .loc[row_indexer,col_indexer] = value instead\n",
      "\n",
      "See the caveats in the documentation: https://pandas.pydata.org/pandas-docs/stable/user_guide/indexing.html#returning-a-view-versus-a-copy\n",
      "  kids['adult'] = kids.Age_Group.apply(lambda x: 1 if x in adult else 0)\n"
     ]
    },
    {
     "data": {
      "text/plain": [
       "([<matplotlib.patches.Wedge at 0x7f8651c18ee0>,\n",
       "  <matplotlib.patches.Wedge at 0x7f8648b466a0>],\n",
       " [Text(-1.0284813868493201, 0.39016155231454996, ''),\n",
       "  Text(1.0284814233788766, -0.390161456021171, '')],\n",
       " [Text(-0.5609898473723564, 0.2128153921715727, '88%'),\n",
       "  Text(0.560989867297569, -0.21281533964791144, '12%')])"
      ]
     },
     "execution_count": 36,
     "metadata": {},
     "output_type": "execute_result"
    },
    {
     "data": {
      "image/png": "[encoded data removed]",
      "text/plain": [
       "<Figure size 576x432 with 1 Axes>"
      ]
     },
     "metadata": {},
     "output_type": "display_data"
    }
   ],
   "source": [
    "adult = ['20-29','30-39','40-49','50-59','60<']\n",
    "kids = df_nfs[(df_nfs.Item_Sex=='K')|(df_nfs.Item_Sex=='G')]\n",
    "kids['adult'] = kids.Age_Group.apply(lambda x: 1 if x in adult else 0)\n",
    "\n",
    "colors = ['mediumaquamarine','palevioletred']\n",
    "plt.figure(figsize=(8,6))\n",
    "plt.pie(kids.adult.value_counts(),colors=colors,autopct='%.0f%%')"
   ]
  },
  {
   "cell_type": "code",
   "execution_count": 37,
   "id": "d70efe4d",
   "metadata": {},
   "outputs": [],
   "source": [
    "#Kids items are cheaper, design/material differentiation from adult for similar items\n",
    "#For items without similar design in women category, guarantee 150-160cm invenotry to trade up womens' baskets"
   ]
  },
  {
   "cell_type": "markdown",
   "id": "8ac42adc",
   "metadata": {},
   "source": [
    "## Which age group leaves the most reviews?"
   ]
  },
  {
   "cell_type": "code",
   "execution_count": 38,
   "id": "c929a1ed",
   "metadata": {},
   "outputs": [
    {
     "data": {
      "text/plain": [
       "<AxesSubplot:xlabel='Age_Group'>"
      ]
     },
     "execution_count": 38,
     "metadata": {},
     "output_type": "execute_result"
    },
    {
     "data": {
      "image/png": "[encoded data removed]",
      "text/plain": [
       "<Figure size 432x288 with 1 Axes>"
      ]
     },
     "metadata": {
      "needs_background": "light"
     },
     "output_type": "display_data"
    }
   ],
   "source": [
    "df_nfs.groupby('Age_Group').Gender.value_counts().sort_values(ascending=False).unstack().plot(kind='bar',color=['palevioletred','steelblue'])"
   ]
  },
  {
   "cell_type": "code",
   "execution_count": 39,
   "id": "644886c9",
   "metadata": {},
   "outputs": [],
   "source": [
    "#Review mainly come from 50-59, followed by 40-49 and 30-39 (high age groups)\n",
    "#so there is a need to capture more younsters reviews"
   ]
  },
  {
   "cell_type": "markdown",
   "id": "bd10f0bc",
   "metadata": {},
   "source": [
    "## Which dept has the most reivews?"
   ]
  },
  {
   "cell_type": "code",
   "execution_count": 40,
   "id": "f721ef21",
   "metadata": {
    "scrolled": true
   },
   "outputs": [
    {
     "data": {
      "text/plain": [
       "<AxesSubplot:>"
      ]
     },
     "execution_count": 40,
     "metadata": {},
     "output_type": "execute_result"
    },
    {
     "data": {
      "image/png": "[encoded data removed]",
      "text/plain": [
       "<Figure size 432x288 with 1 Axes>"
      ]
     },
     "metadata": {
      "needs_background": "light"
     },
     "output_type": "display_data"
    }
   ],
   "source": [
    "df_nfs.Dept.value_counts().plot.bar(color='r')\n",
    "#df_nfs.groupby('Dept').Item_Code.nunique().plot.bar()"
   ]
  },
  {
   "cell_type": "markdown",
   "id": "7472103e",
   "metadata": {},
   "source": [
    "## Height distribution by gender"
   ]
  },
  {
   "cell_type": "code",
   "execution_count": 41,
   "id": "3dccce2c",
   "metadata": {},
   "outputs": [
    {
     "data": {
      "text/plain": [
       "<AxesSubplot:>"
      ]
     },
     "execution_count": 41,
     "metadata": {},
     "output_type": "execute_result"
    },
    {
     "data": {
      "image/png": "[encoded data removed]",
      "text/plain": [
       "<Figure size 432x288 with 1 Axes>"
      ]
     },
     "metadata": {
      "needs_background": "light"
     },
     "output_type": "display_data"
    }
   ],
   "source": [
    "df_nfs[df_nfs.Gender==\"Male\"].Height.value_counts().plot.bar(color='steelblue')"
   ]
  },
  {
   "cell_type": "code",
   "execution_count": 42,
   "id": "c4239871",
   "metadata": {},
   "outputs": [
    {
     "data": {
      "text/plain": [
       "<AxesSubplot:>"
      ]
     },
     "execution_count": 42,
     "metadata": {},
     "output_type": "execute_result"
    },
    {
     "data": {
      "image/png": "[encoded data removed]",
      "text/plain": [
       "<Figure size 432x288 with 1 Axes>"
      ]
     },
     "metadata": {
      "needs_background": "light"
     },
     "output_type": "display_data"
    }
   ],
   "source": [
    "df_nfs[df_nfs.Gender==\"Female\"].Height.value_counts().plot.bar(color='palevioletred')"
   ]
  },
  {
   "cell_type": "markdown",
   "id": "c12b81a7",
   "metadata": {},
   "source": [
    "## Weight distribution by gender"
   ]
  },
  {
   "cell_type": "code",
   "execution_count": 43,
   "id": "25df59aa",
   "metadata": {},
   "outputs": [
    {
     "data": {
      "text/plain": [
       "<AxesSubplot:>"
      ]
     },
     "execution_count": 43,
     "metadata": {},
     "output_type": "execute_result"
    },
    {
     "name": "stderr",
     "output_type": "stream",
     "text": [
      "/Users/chunghangkwok/opt/anaconda3/lib/python3.9/site-packages/matplotlib/backends/backend_agg.py:240: RuntimeWarning: Glyph 20197 missing from current font.\n",
      "  font.set_text(s, 0.0, flags=flags)\n",
      "/Users/chunghangkwok/opt/anaconda3/lib/python3.9/site-packages/matplotlib/backends/backend_agg.py:240: RuntimeWarning: Glyph 19978 missing from current font.\n",
      "  font.set_text(s, 0.0, flags=flags)\n",
      "/Users/chunghangkwok/opt/anaconda3/lib/python3.9/site-packages/matplotlib/backends/backend_agg.py:203: RuntimeWarning: Glyph 20197 missing from current font.\n",
      "  font.set_text(s, 0, flags=flags)\n",
      "/Users/chunghangkwok/opt/anaconda3/lib/python3.9/site-packages/matplotlib/backends/backend_agg.py:203: RuntimeWarning: Glyph 19978 missing from current font.\n",
      "  font.set_text(s, 0, flags=flags)\n"
     ]
    },
    {
     "data": {
      "image/png": "[encoded data removed]",
      "text/plain": [
       "<Figure size 432x288 with 1 Axes>"
      ]
     },
     "metadata": {
      "needs_background": "light"
     },
     "output_type": "display_data"
    }
   ],
   "source": [
    "df_nfs[df_nfs.Gender==\"Male\"].Weight.value_counts().plot.bar(color='steelblue')"
   ]
  },
  {
   "cell_type": "code",
   "execution_count": 44,
   "id": "dd089643",
   "metadata": {},
   "outputs": [
    {
     "data": {
      "text/plain": [
       "<AxesSubplot:>"
      ]
     },
     "execution_count": 44,
     "metadata": {},
     "output_type": "execute_result"
    },
    {
     "data": {
      "image/png": "[encoded data removed]",
      "text/plain": [
       "<Figure size 432x288 with 1 Axes>"
      ]
     },
     "metadata": {
      "needs_background": "light"
     },
     "output_type": "display_data"
    }
   ],
   "source": [
    "df_nfs[df_nfs.Gender==\"Female\"].Weight.value_counts().plot.bar(color='palevioletred')"
   ]
  },
  {
   "cell_type": "markdown",
   "id": "daad9d43",
   "metadata": {},
   "source": [
    "## Rating split"
   ]
  },
  {
   "cell_type": "code",
   "execution_count": 45,
   "id": "3540a521",
   "metadata": {},
   "outputs": [
    {
     "data": {
      "text/plain": [
       "([<matplotlib.patches.Wedge at 0x7f86519ead90>,\n",
       "  <matplotlib.patches.Wedge at 0x7f86519f8430>,\n",
       "  <matplotlib.patches.Wedge at 0x7f86519f8b50>,\n",
       "  <matplotlib.patches.Wedge at 0x7f8651a062b0>,\n",
       "  <matplotlib.patches.Wedge at 0x7f8651a069d0>],\n",
       " [Text(-0.4179472041938173, 1.017506822830477, ''),\n",
       "  Text(0.10039703210383064, -1.0954087985518204, ''),\n",
       "  Text(1.00943425238616, -0.43708407670560906, ''),\n",
       "  Text(1.0855672179132565, -0.17760578648251396, ''),\n",
       "  Text(1.0985193917427054, -0.057053886504222585, '')],\n",
       " [Text(-0.2279712022875367, 0.5550037215438965, '62%'),\n",
       "  Text(0.05476201751118034, -0.5974957083009929, '28%'),\n",
       "  Text(0.5506005013015417, -0.23840949638487763, '6%'),\n",
       "  Text(0.5921275734072308, -0.0968758835359167, '2%'),\n",
       "  Text(0.5991923954960211, -0.03112030172957595, '2%')])"
      ]
     },
     "execution_count": 45,
     "metadata": {},
     "output_type": "execute_result"
    },
    {
     "data": {
      "image/png": "[encoded data removed]",
      "text/plain": [
       "<Figure size 576x432 with 1 Axes>"
      ]
     },
     "metadata": {},
     "output_type": "display_data"
    }
   ],
   "source": [
    "colors = ['steelblue','deepskyblue','skyblue','lightblue','powderblue']\n",
    "plt.figure(figsize=(8,6))\n",
    "plt.pie(df_nfs.Rating.value_counts(), colors=colors, autopct='%.0f%%')\n",
    "#dark to light: 5 to 1 rating"
   ]
  },
  {
   "cell_type": "code",
   "execution_count": 46,
   "id": "b300cc86",
   "metadata": {},
   "outputs": [
    {
     "data": {
      "text/html": [
       "<div>\n",
       "<style scoped>\n",
       "    .dataframe tbody tr th:only-of-type {\n",
       "        vertical-align: middle;\n",
       "    }\n",
       "\n",
       "    .dataframe tbody tr th {\n",
       "        vertical-align: top;\n",
       "    }\n",
       "\n",
       "    .dataframe thead th {\n",
       "        text-align: right;\n",
       "    }\n",
       "</style>\n",
       "<table border=\"1\" class=\"dataframe\">\n",
       "  <thead>\n",
       "    <tr style=\"text-align: right;\">\n",
       "      <th>Rating</th>\n",
       "      <th>Item_Name</th>\n",
       "      <th>1</th>\n",
       "      <th>2</th>\n",
       "      <th>3</th>\n",
       "      <th>4</th>\n",
       "      <th>5</th>\n",
       "      <th>total</th>\n",
       "      <th>bad</th>\n",
       "      <th>bad%</th>\n",
       "      <th>good%</th>\n",
       "      <th>Item_Sex</th>\n",
       "    </tr>\n",
       "  </thead>\n",
       "  <tbody>\n",
       "    <tr>\n",
       "      <th>0</th>\n",
       "      <td>G's airism cotton blend camisole</td>\n",
       "      <td>1.0</td>\n",
       "      <td>3.0</td>\n",
       "      <td>7.0</td>\n",
       "      <td>24.0</td>\n",
       "      <td>55.0</td>\n",
       "      <td>90.0</td>\n",
       "      <td>4.0</td>\n",
       "      <td>4.444444</td>\n",
       "      <td>61.111111</td>\n",
       "      <td>G</td>\n",
       "    </tr>\n",
       "    <tr>\n",
       "      <th>1</th>\n",
       "      <td>G's airism first bra</td>\n",
       "      <td>1.0</td>\n",
       "      <td>1.0</td>\n",
       "      <td>0.0</td>\n",
       "      <td>23.0</td>\n",
       "      <td>26.0</td>\n",
       "      <td>51.0</td>\n",
       "      <td>2.0</td>\n",
       "      <td>3.921569</td>\n",
       "      <td>50.980392</td>\n",
       "      <td>G</td>\n",
       "    </tr>\n",
       "    <tr>\n",
       "      <th>2</th>\n",
       "      <td>G's airism uv protection soft leggings</td>\n",
       "      <td>0.0</td>\n",
       "      <td>1.0</td>\n",
       "      <td>6.0</td>\n",
       "      <td>17.0</td>\n",
       "      <td>41.0</td>\n",
       "      <td>65.0</td>\n",
       "      <td>1.0</td>\n",
       "      <td>1.538462</td>\n",
       "      <td>63.076923</td>\n",
       "      <td>G</td>\n",
       "    </tr>\n",
       "    <tr>\n",
       "      <th>3</th>\n",
       "      <td>G's leggings</td>\n",
       "      <td>0.0</td>\n",
       "      <td>2.0</td>\n",
       "      <td>11.0</td>\n",
       "      <td>25.0</td>\n",
       "      <td>91.0</td>\n",
       "      <td>129.0</td>\n",
       "      <td>2.0</td>\n",
       "      <td>1.550388</td>\n",
       "      <td>70.542636</td>\n",
       "      <td>G</td>\n",
       "    </tr>\n",
       "    <tr>\n",
       "      <th>4</th>\n",
       "      <td>G's ribbed mellow ankle length leggings</td>\n",
       "      <td>1.0</td>\n",
       "      <td>4.0</td>\n",
       "      <td>9.0</td>\n",
       "      <td>7.0</td>\n",
       "      <td>21.0</td>\n",
       "      <td>42.0</td>\n",
       "      <td>5.0</td>\n",
       "      <td>11.904762</td>\n",
       "      <td>50.000000</td>\n",
       "      <td>G</td>\n",
       "    </tr>\n",
       "    <tr>\n",
       "      <th>...</th>\n",
       "      <td>...</td>\n",
       "      <td>...</td>\n",
       "      <td>...</td>\n",
       "      <td>...</td>\n",
       "      <td>...</td>\n",
       "      <td>...</td>\n",
       "      <td>...</td>\n",
       "      <td>...</td>\n",
       "      <td>...</td>\n",
       "      <td>...</td>\n",
       "      <td>...</td>\n",
       "    </tr>\n",
       "    <tr>\n",
       "      <th>91</th>\n",
       "      <td>W's uv protection crew neck long sleeve cardigan</td>\n",
       "      <td>1.0</td>\n",
       "      <td>0.0</td>\n",
       "      <td>3.0</td>\n",
       "      <td>52.0</td>\n",
       "      <td>110.0</td>\n",
       "      <td>166.0</td>\n",
       "      <td>1.0</td>\n",
       "      <td>0.602410</td>\n",
       "      <td>66.265060</td>\n",
       "      <td>W</td>\n",
       "    </tr>\n",
       "    <tr>\n",
       "      <th>92</th>\n",
       "      <td>W's uv protection long sleeve slit t-shirt</td>\n",
       "      <td>0.0</td>\n",
       "      <td>2.0</td>\n",
       "      <td>15.0</td>\n",
       "      <td>78.0</td>\n",
       "      <td>119.0</td>\n",
       "      <td>214.0</td>\n",
       "      <td>2.0</td>\n",
       "      <td>0.934579</td>\n",
       "      <td>55.607477</td>\n",
       "      <td>W</td>\n",
       "    </tr>\n",
       "    <tr>\n",
       "      <th>93</th>\n",
       "      <td>W's wide straight pants</td>\n",
       "      <td>2.0</td>\n",
       "      <td>2.0</td>\n",
       "      <td>12.0</td>\n",
       "      <td>65.0</td>\n",
       "      <td>91.0</td>\n",
       "      <td>172.0</td>\n",
       "      <td>4.0</td>\n",
       "      <td>2.325581</td>\n",
       "      <td>52.906977</td>\n",
       "      <td>W</td>\n",
       "    </tr>\n",
       "    <tr>\n",
       "      <th>94</th>\n",
       "      <td>W's wireless bra (3d hold)</td>\n",
       "      <td>23.0</td>\n",
       "      <td>25.0</td>\n",
       "      <td>61.0</td>\n",
       "      <td>196.0</td>\n",
       "      <td>299.0</td>\n",
       "      <td>604.0</td>\n",
       "      <td>48.0</td>\n",
       "      <td>7.947020</td>\n",
       "      <td>49.503311</td>\n",
       "      <td>W</td>\n",
       "    </tr>\n",
       "    <tr>\n",
       "      <th>95</th>\n",
       "      <td>W's wireless bra (relax)</td>\n",
       "      <td>3.0</td>\n",
       "      <td>3.0</td>\n",
       "      <td>5.0</td>\n",
       "      <td>40.0</td>\n",
       "      <td>62.0</td>\n",
       "      <td>113.0</td>\n",
       "      <td>6.0</td>\n",
       "      <td>5.309735</td>\n",
       "      <td>54.867257</td>\n",
       "      <td>W</td>\n",
       "    </tr>\n",
       "  </tbody>\n",
       "</table>\n",
       "<p>96 rows × 11 columns</p>\n",
       "</div>"
      ],
      "text/plain": [
       "Rating                                         Item_Name     1     2     3  \\\n",
       "0                       G's airism cotton blend camisole   1.0   3.0   7.0   \n",
       "1                                   G's airism first bra   1.0   1.0   0.0   \n",
       "2                 G's airism uv protection soft leggings   0.0   1.0   6.0   \n",
       "3                                           G's leggings   0.0   2.0  11.0   \n",
       "4                G's ribbed mellow ankle length leggings   1.0   4.0   9.0   \n",
       "..                                                   ...   ...   ...   ...   \n",
       "91      W's uv protection crew neck long sleeve cardigan   1.0   0.0   3.0   \n",
       "92            W's uv protection long sleeve slit t-shirt   0.0   2.0  15.0   \n",
       "93                               W's wide straight pants   2.0   2.0  12.0   \n",
       "94                            W's wireless bra (3d hold)  23.0  25.0  61.0   \n",
       "95                              W's wireless bra (relax)   3.0   3.0   5.0   \n",
       "\n",
       "Rating      4      5  total   bad       bad%      good% Item_Sex  \n",
       "0        24.0   55.0   90.0   4.0   4.444444  61.111111        G  \n",
       "1        23.0   26.0   51.0   2.0   3.921569  50.980392        G  \n",
       "2        17.0   41.0   65.0   1.0   1.538462  63.076923        G  \n",
       "3        25.0   91.0  129.0   2.0   1.550388  70.542636        G  \n",
       "4         7.0   21.0   42.0   5.0  11.904762  50.000000        G  \n",
       "..        ...    ...    ...   ...        ...        ...      ...  \n",
       "91       52.0  110.0  166.0   1.0   0.602410  66.265060        W  \n",
       "92       78.0  119.0  214.0   2.0   0.934579  55.607477        W  \n",
       "93       65.0   91.0  172.0   4.0   2.325581  52.906977        W  \n",
       "94      196.0  299.0  604.0  48.0   7.947020  49.503311        W  \n",
       "95       40.0   62.0  113.0   6.0   5.309735  54.867257        W  \n",
       "\n",
       "[96 rows x 11 columns]"
      ]
     },
     "execution_count": 46,
     "metadata": {},
     "output_type": "execute_result"
    }
   ],
   "source": [
    "item_rating = df_nfs.groupby('Item_Name').Rating.value_counts().unstack()\n",
    "item_rating = pd.DataFrame(item_rating)\n",
    "item_rating = item_rating.fillna(0)\n",
    "item_rating.reset_index(inplace=True)\n",
    "item_rating['total']=item_rating[1]+item_rating[2]+item_rating[3]+item_rating[4]+item_rating[5]\n",
    "item_rating['bad'] = item_rating[1]+item_rating[2]\n",
    "item_rating['bad%'] = item_rating['bad']/item_rating['total']*100\n",
    "item_rating['good%'] = item_rating[5]/item_rating['total']*100\n",
    "item_rating['Item_Sex'] = item_rating['Item_Name'].apply(lambda x:x[:1])\n",
    "item_rating"
   ]
  },
  {
   "cell_type": "markdown",
   "id": "d4a32851",
   "metadata": {},
   "source": [
    "## Top 3 best reviews items by category"
   ]
  },
  {
   "cell_type": "code",
   "execution_count": 47,
   "id": "8a82d900",
   "metadata": {},
   "outputs": [
    {
     "data": {
      "text/html": [
       "<div>\n",
       "<style scoped>\n",
       "    .dataframe tbody tr th:only-of-type {\n",
       "        vertical-align: middle;\n",
       "    }\n",
       "\n",
       "    .dataframe tbody tr th {\n",
       "        vertical-align: top;\n",
       "    }\n",
       "\n",
       "    .dataframe thead th {\n",
       "        text-align: right;\n",
       "    }\n",
       "</style>\n",
       "<table border=\"1\" class=\"dataframe\">\n",
       "  <thead>\n",
       "    <tr style=\"text-align: right;\">\n",
       "      <th>Rating</th>\n",
       "      <th>Item_Name</th>\n",
       "      <th>1</th>\n",
       "      <th>2</th>\n",
       "      <th>3</th>\n",
       "      <th>4</th>\n",
       "      <th>5</th>\n",
       "      <th>total</th>\n",
       "      <th>bad</th>\n",
       "      <th>bad%</th>\n",
       "      <th>good%</th>\n",
       "      <th>Item_Sex</th>\n",
       "    </tr>\n",
       "  </thead>\n",
       "  <tbody>\n",
       "    <tr>\n",
       "      <th>43</th>\n",
       "      <td>M's indigo dye sweat cardigan</td>\n",
       "      <td>0.0</td>\n",
       "      <td>2.0</td>\n",
       "      <td>5.0</td>\n",
       "      <td>26.0</td>\n",
       "      <td>109.0</td>\n",
       "      <td>142.0</td>\n",
       "      <td>2.0</td>\n",
       "      <td>1.408451</td>\n",
       "      <td>76.760563</td>\n",
       "      <td>M</td>\n",
       "    </tr>\n",
       "    <tr>\n",
       "      <th>34</th>\n",
       "      <td>M's denim work jacket</td>\n",
       "      <td>0.0</td>\n",
       "      <td>0.0</td>\n",
       "      <td>0.0</td>\n",
       "      <td>19.0</td>\n",
       "      <td>60.0</td>\n",
       "      <td>79.0</td>\n",
       "      <td>0.0</td>\n",
       "      <td>0.000000</td>\n",
       "      <td>75.949367</td>\n",
       "      <td>M</td>\n",
       "    </tr>\n",
       "    <tr>\n",
       "      <th>56</th>\n",
       "      <td>M's u airism cotton crew neck oversized t-shrt</td>\n",
       "      <td>2.0</td>\n",
       "      <td>8.0</td>\n",
       "      <td>19.0</td>\n",
       "      <td>157.0</td>\n",
       "      <td>572.0</td>\n",
       "      <td>758.0</td>\n",
       "      <td>10.0</td>\n",
       "      <td>1.319261</td>\n",
       "      <td>75.461741</td>\n",
       "      <td>M</td>\n",
       "    </tr>\n",
       "  </tbody>\n",
       "</table>\n",
       "</div>"
      ],
      "text/plain": [
       "Rating                                       Item_Name    1    2     3      4  \\\n",
       "43                       M's indigo dye sweat cardigan  0.0  2.0   5.0   26.0   \n",
       "34                               M's denim work jacket  0.0  0.0   0.0   19.0   \n",
       "56      M's u airism cotton crew neck oversized t-shrt  2.0  8.0  19.0  157.0   \n",
       "\n",
       "Rating      5  total   bad      bad%      good% Item_Sex  \n",
       "43      109.0  142.0   2.0  1.408451  76.760563        M  \n",
       "34       60.0   79.0   0.0  0.000000  75.949367        M  \n",
       "56      572.0  758.0  10.0  1.319261  75.461741        M  "
      ]
     },
     "execution_count": 47,
     "metadata": {},
     "output_type": "execute_result"
    }
   ],
   "source": [
    "item_rating[item_rating.Item_Sex==\"M\"].sort_values(by='good%',ascending=False).head(3)"
   ]
  },
  {
   "cell_type": "code",
   "execution_count": 48,
   "id": "dbc407ff",
   "metadata": {},
   "outputs": [
    {
     "data": {
      "text/html": [
       "<div>\n",
       "<style scoped>\n",
       "    .dataframe tbody tr th:only-of-type {\n",
       "        vertical-align: middle;\n",
       "    }\n",
       "\n",
       "    .dataframe tbody tr th {\n",
       "        vertical-align: top;\n",
       "    }\n",
       "\n",
       "    .dataframe thead th {\n",
       "        text-align: right;\n",
       "    }\n",
       "</style>\n",
       "<table border=\"1\" class=\"dataframe\">\n",
       "  <thead>\n",
       "    <tr style=\"text-align: right;\">\n",
       "      <th>Rating</th>\n",
       "      <th>Item_Name</th>\n",
       "      <th>1</th>\n",
       "      <th>2</th>\n",
       "      <th>3</th>\n",
       "      <th>4</th>\n",
       "      <th>5</th>\n",
       "      <th>total</th>\n",
       "      <th>bad</th>\n",
       "      <th>bad%</th>\n",
       "      <th>good%</th>\n",
       "      <th>Item_Sex</th>\n",
       "    </tr>\n",
       "  </thead>\n",
       "  <tbody>\n",
       "    <tr>\n",
       "      <th>81</th>\n",
       "      <td>W's ribbed cropped short sleeve t-shirt</td>\n",
       "      <td>0.0</td>\n",
       "      <td>0.0</td>\n",
       "      <td>3.0</td>\n",
       "      <td>10.0</td>\n",
       "      <td>33.0</td>\n",
       "      <td>46.0</td>\n",
       "      <td>0.0</td>\n",
       "      <td>0.000000</td>\n",
       "      <td>71.739130</td>\n",
       "      <td>W</td>\n",
       "    </tr>\n",
       "    <tr>\n",
       "      <th>74</th>\n",
       "      <td>W's cotton relaco shorts</td>\n",
       "      <td>0.0</td>\n",
       "      <td>1.0</td>\n",
       "      <td>7.0</td>\n",
       "      <td>31.0</td>\n",
       "      <td>95.0</td>\n",
       "      <td>134.0</td>\n",
       "      <td>1.0</td>\n",
       "      <td>0.746269</td>\n",
       "      <td>70.895522</td>\n",
       "      <td>W</td>\n",
       "    </tr>\n",
       "    <tr>\n",
       "      <th>76</th>\n",
       "      <td>W's lace shorts (hiphugger)</td>\n",
       "      <td>1.0</td>\n",
       "      <td>2.0</td>\n",
       "      <td>4.0</td>\n",
       "      <td>22.0</td>\n",
       "      <td>62.0</td>\n",
       "      <td>91.0</td>\n",
       "      <td>3.0</td>\n",
       "      <td>3.296703</td>\n",
       "      <td>68.131868</td>\n",
       "      <td>W</td>\n",
       "    </tr>\n",
       "  </tbody>\n",
       "</table>\n",
       "</div>"
      ],
      "text/plain": [
       "Rating                                Item_Name    1    2    3     4     5  \\\n",
       "81      W's ribbed cropped short sleeve t-shirt  0.0  0.0  3.0  10.0  33.0   \n",
       "74                     W's cotton relaco shorts  0.0  1.0  7.0  31.0  95.0   \n",
       "76                  W's lace shorts (hiphugger)  1.0  2.0  4.0  22.0  62.0   \n",
       "\n",
       "Rating  total  bad      bad%      good% Item_Sex  \n",
       "81       46.0  0.0  0.000000  71.739130        W  \n",
       "74      134.0  1.0  0.746269  70.895522        W  \n",
       "76       91.0  3.0  3.296703  68.131868        W  "
      ]
     },
     "execution_count": 48,
     "metadata": {},
     "output_type": "execute_result"
    }
   ],
   "source": [
    "item_rating[item_rating.Item_Sex==\"W\"].sort_values(by='good%',ascending=False).head(3)"
   ]
  },
  {
   "cell_type": "code",
   "execution_count": 49,
   "id": "90c2efd4",
   "metadata": {},
   "outputs": [
    {
     "data": {
      "text/html": [
       "<div>\n",
       "<style scoped>\n",
       "    .dataframe tbody tr th:only-of-type {\n",
       "        vertical-align: middle;\n",
       "    }\n",
       "\n",
       "    .dataframe tbody tr th {\n",
       "        vertical-align: top;\n",
       "    }\n",
       "\n",
       "    .dataframe thead th {\n",
       "        text-align: right;\n",
       "    }\n",
       "</style>\n",
       "<table border=\"1\" class=\"dataframe\">\n",
       "  <thead>\n",
       "    <tr style=\"text-align: right;\">\n",
       "      <th>Rating</th>\n",
       "      <th>Item_Name</th>\n",
       "      <th>1</th>\n",
       "      <th>2</th>\n",
       "      <th>3</th>\n",
       "      <th>4</th>\n",
       "      <th>5</th>\n",
       "      <th>total</th>\n",
       "      <th>bad</th>\n",
       "      <th>bad%</th>\n",
       "      <th>good%</th>\n",
       "      <th>Item_Sex</th>\n",
       "    </tr>\n",
       "  </thead>\n",
       "  <tbody>\n",
       "    <tr>\n",
       "      <th>19</th>\n",
       "      <td>K's ultra stretch dry sweat full zip hoodie</td>\n",
       "      <td>0.0</td>\n",
       "      <td>0.0</td>\n",
       "      <td>5.0</td>\n",
       "      <td>30.0</td>\n",
       "      <td>112.0</td>\n",
       "      <td>147.0</td>\n",
       "      <td>0.0</td>\n",
       "      <td>0.000000</td>\n",
       "      <td>76.190476</td>\n",
       "      <td>K</td>\n",
       "    </tr>\n",
       "    <tr>\n",
       "      <th>16</th>\n",
       "      <td>K's u airism cotton crew neck t-shirt</td>\n",
       "      <td>1.0</td>\n",
       "      <td>3.0</td>\n",
       "      <td>8.0</td>\n",
       "      <td>69.0</td>\n",
       "      <td>240.0</td>\n",
       "      <td>321.0</td>\n",
       "      <td>4.0</td>\n",
       "      <td>1.246106</td>\n",
       "      <td>74.766355</td>\n",
       "      <td>K</td>\n",
       "    </tr>\n",
       "    <tr>\n",
       "      <th>7</th>\n",
       "      <td>K's airism cotton blend tank top</td>\n",
       "      <td>1.0</td>\n",
       "      <td>2.0</td>\n",
       "      <td>10.0</td>\n",
       "      <td>42.0</td>\n",
       "      <td>153.0</td>\n",
       "      <td>208.0</td>\n",
       "      <td>3.0</td>\n",
       "      <td>1.442308</td>\n",
       "      <td>73.557692</td>\n",
       "      <td>K</td>\n",
       "    </tr>\n",
       "  </tbody>\n",
       "</table>\n",
       "</div>"
      ],
      "text/plain": [
       "Rating                                    Item_Name    1    2     3     4  \\\n",
       "19      K's ultra stretch dry sweat full zip hoodie  0.0  0.0   5.0  30.0   \n",
       "16            K's u airism cotton crew neck t-shirt  1.0  3.0   8.0  69.0   \n",
       "7                  K's airism cotton blend tank top  1.0  2.0  10.0  42.0   \n",
       "\n",
       "Rating      5  total  bad      bad%      good% Item_Sex  \n",
       "19      112.0  147.0  0.0  0.000000  76.190476        K  \n",
       "16      240.0  321.0  4.0  1.246106  74.766355        K  \n",
       "7       153.0  208.0  3.0  1.442308  73.557692        K  "
      ]
     },
     "execution_count": 49,
     "metadata": {},
     "output_type": "execute_result"
    }
   ],
   "source": [
    "item_rating[item_rating.Item_Sex==\"K\"].sort_values(by='good%',ascending=False).head(3)"
   ]
  },
  {
   "cell_type": "code",
   "execution_count": 50,
   "id": "24ebf5eb",
   "metadata": {},
   "outputs": [],
   "source": [
    "#Overall speaking, new indigo collection and airism cotton items have best rating\n",
    "#implies color strategy/line extension opportunities\n",
    "#show pics in ppt"
   ]
  },
  {
   "cell_type": "markdown",
   "id": "1784c897",
   "metadata": {},
   "source": [
    "## Top 5 worst reviews items"
   ]
  },
  {
   "cell_type": "code",
   "execution_count": 51,
   "id": "119e8082",
   "metadata": {},
   "outputs": [
    {
     "data": {
      "text/html": [
       "<div>\n",
       "<style scoped>\n",
       "    .dataframe tbody tr th:only-of-type {\n",
       "        vertical-align: middle;\n",
       "    }\n",
       "\n",
       "    .dataframe tbody tr th {\n",
       "        vertical-align: top;\n",
       "    }\n",
       "\n",
       "    .dataframe thead th {\n",
       "        text-align: right;\n",
       "    }\n",
       "</style>\n",
       "<table border=\"1\" class=\"dataframe\">\n",
       "  <thead>\n",
       "    <tr style=\"text-align: right;\">\n",
       "      <th>Rating</th>\n",
       "      <th>Item_Name</th>\n",
       "      <th>1</th>\n",
       "      <th>2</th>\n",
       "      <th>3</th>\n",
       "      <th>4</th>\n",
       "      <th>5</th>\n",
       "      <th>total</th>\n",
       "      <th>bad</th>\n",
       "      <th>bad%</th>\n",
       "      <th>good%</th>\n",
       "      <th>Item_Sex</th>\n",
       "    </tr>\n",
       "  </thead>\n",
       "  <tbody>\n",
       "    <tr>\n",
       "      <th>77</th>\n",
       "      <td>W's mid rise briefs</td>\n",
       "      <td>9.0</td>\n",
       "      <td>7.0</td>\n",
       "      <td>8.0</td>\n",
       "      <td>9.0</td>\n",
       "      <td>25.0</td>\n",
       "      <td>58.0</td>\n",
       "      <td>16.0</td>\n",
       "      <td>27.586207</td>\n",
       "      <td>43.103448</td>\n",
       "      <td>W</td>\n",
       "    </tr>\n",
       "    <tr>\n",
       "      <th>64</th>\n",
       "      <td>M's unisex washable room shoes</td>\n",
       "      <td>19.0</td>\n",
       "      <td>10.0</td>\n",
       "      <td>17.0</td>\n",
       "      <td>71.0</td>\n",
       "      <td>83.0</td>\n",
       "      <td>200.0</td>\n",
       "      <td>29.0</td>\n",
       "      <td>14.500000</td>\n",
       "      <td>41.500000</td>\n",
       "      <td>M</td>\n",
       "    </tr>\n",
       "    <tr>\n",
       "      <th>4</th>\n",
       "      <td>G's ribbed mellow ankle length leggings</td>\n",
       "      <td>1.0</td>\n",
       "      <td>4.0</td>\n",
       "      <td>9.0</td>\n",
       "      <td>7.0</td>\n",
       "      <td>21.0</td>\n",
       "      <td>42.0</td>\n",
       "      <td>5.0</td>\n",
       "      <td>11.904762</td>\n",
       "      <td>50.000000</td>\n",
       "      <td>G</td>\n",
       "    </tr>\n",
       "    <tr>\n",
       "      <th>94</th>\n",
       "      <td>W's wireless bra (3d hold)</td>\n",
       "      <td>23.0</td>\n",
       "      <td>25.0</td>\n",
       "      <td>61.0</td>\n",
       "      <td>196.0</td>\n",
       "      <td>299.0</td>\n",
       "      <td>604.0</td>\n",
       "      <td>48.0</td>\n",
       "      <td>7.947020</td>\n",
       "      <td>49.503311</td>\n",
       "      <td>W</td>\n",
       "    </tr>\n",
       "    <tr>\n",
       "      <th>68</th>\n",
       "      <td>W's airism bra sleeveless top</td>\n",
       "      <td>27.0</td>\n",
       "      <td>23.0</td>\n",
       "      <td>39.0</td>\n",
       "      <td>183.0</td>\n",
       "      <td>379.0</td>\n",
       "      <td>651.0</td>\n",
       "      <td>50.0</td>\n",
       "      <td>7.680492</td>\n",
       "      <td>58.218126</td>\n",
       "      <td>W</td>\n",
       "    </tr>\n",
       "  </tbody>\n",
       "</table>\n",
       "</div>"
      ],
      "text/plain": [
       "Rating                                Item_Name     1     2     3      4  \\\n",
       "77                          W's mid rise briefs   9.0   7.0   8.0    9.0   \n",
       "64               M's unisex washable room shoes  19.0  10.0  17.0   71.0   \n",
       "4       G's ribbed mellow ankle length leggings   1.0   4.0   9.0    7.0   \n",
       "94                   W's wireless bra (3d hold)  23.0  25.0  61.0  196.0   \n",
       "68                W's airism bra sleeveless top  27.0  23.0  39.0  183.0   \n",
       "\n",
       "Rating      5  total   bad       bad%      good% Item_Sex  \n",
       "77       25.0   58.0  16.0  27.586207  43.103448        W  \n",
       "64       83.0  200.0  29.0  14.500000  41.500000        M  \n",
       "4        21.0   42.0   5.0  11.904762  50.000000        G  \n",
       "94      299.0  604.0  48.0   7.947020  49.503311        W  \n",
       "68      379.0  651.0  50.0   7.680492  58.218126        W  "
      ]
     },
     "execution_count": 51,
     "metadata": {},
     "output_type": "execute_result"
    }
   ],
   "source": [
    "item_rating.sort_values(by='bad%',ascending=False).head()"
   ]
  },
  {
   "cell_type": "code",
   "execution_count": 52,
   "id": "fde50112",
   "metadata": {},
   "outputs": [],
   "source": [
    "#Customer center and merchandising team should further check the comments why 1/2 rating was given\n",
    "#esp. for W's inner department, 3 out 5 items on the list\n",
    "#show pics in ppt"
   ]
  },
  {
   "cell_type": "code",
   "execution_count": 53,
   "id": "1062e758",
   "metadata": {},
   "outputs": [
    {
     "data": {
      "text/html": [
       "<div>\n",
       "<style scoped>\n",
       "    .dataframe tbody tr th:only-of-type {\n",
       "        vertical-align: middle;\n",
       "    }\n",
       "\n",
       "    .dataframe tbody tr th {\n",
       "        vertical-align: top;\n",
       "    }\n",
       "\n",
       "    .dataframe thead th {\n",
       "        text-align: right;\n",
       "    }\n",
       "</style>\n",
       "<table border=\"1\" class=\"dataframe\">\n",
       "  <thead>\n",
       "    <tr style=\"text-align: right;\">\n",
       "      <th></th>\n",
       "      <th>Gender</th>\n",
       "      <th>Age_Group</th>\n",
       "      <th>Height</th>\n",
       "      <th>Weight</th>\n",
       "      <th>Product_Size</th>\n",
       "      <th>Rating</th>\n",
       "      <th>Item_Code</th>\n",
       "      <th>Sum_Code</th>\n",
       "      <th>Item_Name</th>\n",
       "      <th>Tags</th>\n",
       "      <th>Dept</th>\n",
       "      <th>Item_Sex</th>\n",
       "    </tr>\n",
       "  </thead>\n",
       "  <tbody>\n",
       "    <tr>\n",
       "      <th>0</th>\n",
       "      <td>Male</td>\n",
       "      <td>7-9</td>\n",
       "      <td>111 - 120cm</td>\n",
       "      <td>16 - 20kg</td>\n",
       "      <td>120</td>\n",
       "      <td>5</td>\n",
       "      <td>439847</td>\n",
       "      <td>11727Z</td>\n",
       "      <td>K's ultra stretch denim slim fit pants</td>\n",
       "      <td>bottoms, ultra stretch</td>\n",
       "      <td>11</td>\n",
       "      <td>K</td>\n",
       "    </tr>\n",
       "    <tr>\n",
       "      <th>1</th>\n",
       "      <td>Male</td>\n",
       "      <td>10-14</td>\n",
       "      <td>141 - 150cm</td>\n",
       "      <td>31 - 35kg</td>\n",
       "      <td>150</td>\n",
       "      <td>5</td>\n",
       "      <td>439847</td>\n",
       "      <td>11727Z</td>\n",
       "      <td>K's ultra stretch denim slim fit pants</td>\n",
       "      <td>bottoms, ultra stretch</td>\n",
       "      <td>11</td>\n",
       "      <td>K</td>\n",
       "    </tr>\n",
       "    <tr>\n",
       "      <th>2</th>\n",
       "      <td>Male</td>\n",
       "      <td>4-6</td>\n",
       "      <td>111 - 120cm</td>\n",
       "      <td>21 - 25kg</td>\n",
       "      <td>120</td>\n",
       "      <td>5</td>\n",
       "      <td>439847</td>\n",
       "      <td>11727Z</td>\n",
       "      <td>K's ultra stretch denim slim fit pants</td>\n",
       "      <td>bottoms, ultra stretch</td>\n",
       "      <td>11</td>\n",
       "      <td>K</td>\n",
       "    </tr>\n",
       "    <tr>\n",
       "      <th>3</th>\n",
       "      <td>Male</td>\n",
       "      <td>4-6</td>\n",
       "      <td>121 - 130cm</td>\n",
       "      <td>21 - 25kg</td>\n",
       "      <td>130</td>\n",
       "      <td>5</td>\n",
       "      <td>439847</td>\n",
       "      <td>11727Z</td>\n",
       "      <td>K's ultra stretch denim slim fit pants</td>\n",
       "      <td>bottoms, ultra stretch</td>\n",
       "      <td>11</td>\n",
       "      <td>K</td>\n",
       "    </tr>\n",
       "    <tr>\n",
       "      <th>4</th>\n",
       "      <td>Male</td>\n",
       "      <td>30-39</td>\n",
       "      <td>101 - 110cm</td>\n",
       "      <td>16 - 20kg</td>\n",
       "      <td>120</td>\n",
       "      <td>5</td>\n",
       "      <td>439847</td>\n",
       "      <td>11727Z</td>\n",
       "      <td>K's ultra stretch denim slim fit pants</td>\n",
       "      <td>bottoms, ultra stretch</td>\n",
       "      <td>11</td>\n",
       "      <td>K</td>\n",
       "    </tr>\n",
       "    <tr>\n",
       "      <th>...</th>\n",
       "      <td>...</td>\n",
       "      <td>...</td>\n",
       "      <td>...</td>\n",
       "      <td>...</td>\n",
       "      <td>...</td>\n",
       "      <td>...</td>\n",
       "      <td>...</td>\n",
       "      <td>...</td>\n",
       "      <td>...</td>\n",
       "      <td>...</td>\n",
       "      <td>...</td>\n",
       "      <td>...</td>\n",
       "    </tr>\n",
       "    <tr>\n",
       "      <th>33354</th>\n",
       "      <td>Female</td>\n",
       "      <td>40-49</td>\n",
       "      <td>161 - 165cm</td>\n",
       "      <td>56 - 60kg</td>\n",
       "      <td>24</td>\n",
       "      <td>5</td>\n",
       "      <td>445086</td>\n",
       "      <td>12588Z</td>\n",
       "      <td>M's cotton canvas lace up sneakers</td>\n",
       "      <td>sneakers, unisex</td>\n",
       "      <td>38</td>\n",
       "      <td>M</td>\n",
       "    </tr>\n",
       "    <tr>\n",
       "      <th>33355</th>\n",
       "      <td>Female</td>\n",
       "      <td>40-49</td>\n",
       "      <td>161 - 165cm</td>\n",
       "      <td>61 - 65kg</td>\n",
       "      <td>24.5</td>\n",
       "      <td>4</td>\n",
       "      <td>445086</td>\n",
       "      <td>12588Z</td>\n",
       "      <td>M's cotton canvas lace up sneakers</td>\n",
       "      <td>sneakers, unisex</td>\n",
       "      <td>38</td>\n",
       "      <td>M</td>\n",
       "    </tr>\n",
       "    <tr>\n",
       "      <th>33356</th>\n",
       "      <td>Male</td>\n",
       "      <td>50-59</td>\n",
       "      <td>171 - 175cm</td>\n",
       "      <td>61 - 65kg</td>\n",
       "      <td>25.5</td>\n",
       "      <td>4</td>\n",
       "      <td>445086</td>\n",
       "      <td>12588Z</td>\n",
       "      <td>M's cotton canvas lace up sneakers</td>\n",
       "      <td>sneakers, unisex</td>\n",
       "      <td>38</td>\n",
       "      <td>M</td>\n",
       "    </tr>\n",
       "    <tr>\n",
       "      <th>33357</th>\n",
       "      <td>Male</td>\n",
       "      <td>40-49</td>\n",
       "      <td>166 - 170cm</td>\n",
       "      <td>66 - 70kg</td>\n",
       "      <td>25.5</td>\n",
       "      <td>4</td>\n",
       "      <td>445086</td>\n",
       "      <td>12588Z</td>\n",
       "      <td>M's cotton canvas lace up sneakers</td>\n",
       "      <td>sneakers, unisex</td>\n",
       "      <td>38</td>\n",
       "      <td>M</td>\n",
       "    </tr>\n",
       "    <tr>\n",
       "      <th>33358</th>\n",
       "      <td>Male</td>\n",
       "      <td>20-29</td>\n",
       "      <td>166 - 170cm</td>\n",
       "      <td>61 - 65kg</td>\n",
       "      <td>27.5</td>\n",
       "      <td>5</td>\n",
       "      <td>445086</td>\n",
       "      <td>12588Z</td>\n",
       "      <td>M's cotton canvas lace up sneakers</td>\n",
       "      <td>sneakers, unisex</td>\n",
       "      <td>38</td>\n",
       "      <td>M</td>\n",
       "    </tr>\n",
       "  </tbody>\n",
       "</table>\n",
       "<p>33359 rows × 12 columns</p>\n",
       "</div>"
      ],
      "text/plain": [
       "       Gender Age_Group       Height     Weight Product_Size  Rating  \\\n",
       "0        Male       7-9  111 - 120cm  16 - 20kg          120       5   \n",
       "1        Male     10-14  141 - 150cm  31 - 35kg          150       5   \n",
       "2        Male       4-6  111 - 120cm  21 - 25kg          120       5   \n",
       "3        Male       4-6  121 - 130cm  21 - 25kg          130       5   \n",
       "4        Male     30-39  101 - 110cm  16 - 20kg          120       5   \n",
       "...       ...       ...          ...        ...          ...     ...   \n",
       "33354  Female     40-49  161 - 165cm  56 - 60kg           24       5   \n",
       "33355  Female     40-49  161 - 165cm  61 - 65kg         24.5       4   \n",
       "33356    Male     50-59  171 - 175cm  61 - 65kg         25.5       4   \n",
       "33357    Male     40-49  166 - 170cm  66 - 70kg         25.5       4   \n",
       "33358    Male     20-29  166 - 170cm  61 - 65kg         27.5       5   \n",
       "\n",
       "       Item_Code Sum_Code                               Item_Name  \\\n",
       "0         439847   11727Z  K's ultra stretch denim slim fit pants   \n",
       "1         439847   11727Z  K's ultra stretch denim slim fit pants   \n",
       "2         439847   11727Z  K's ultra stretch denim slim fit pants   \n",
       "3         439847   11727Z  K's ultra stretch denim slim fit pants   \n",
       "4         439847   11727Z  K's ultra stretch denim slim fit pants   \n",
       "...          ...      ...                                     ...   \n",
       "33354     445086   12588Z      M's cotton canvas lace up sneakers   \n",
       "33355     445086   12588Z      M's cotton canvas lace up sneakers   \n",
       "33356     445086   12588Z      M's cotton canvas lace up sneakers   \n",
       "33357     445086   12588Z      M's cotton canvas lace up sneakers   \n",
       "33358     445086   12588Z      M's cotton canvas lace up sneakers   \n",
       "\n",
       "                         Tags  Dept Item_Sex  \n",
       "0      bottoms, ultra stretch    11        K  \n",
       "1      bottoms, ultra stretch    11        K  \n",
       "2      bottoms, ultra stretch    11        K  \n",
       "3      bottoms, ultra stretch    11        K  \n",
       "4      bottoms, ultra stretch    11        K  \n",
       "...                       ...   ...      ...  \n",
       "33354        sneakers, unisex    38        M  \n",
       "33355        sneakers, unisex    38        M  \n",
       "33356        sneakers, unisex    38        M  \n",
       "33357        sneakers, unisex    38        M  \n",
       "33358        sneakers, unisex    38        M  \n",
       "\n",
       "[33359 rows x 12 columns]"
      ]
     },
     "execution_count": 53,
     "metadata": {},
     "output_type": "execute_result"
    }
   ],
   "source": [
    "df_nfs"
   ]
  },
  {
   "cell_type": "code",
   "execution_count": null,
   "id": "05e8a181",
   "metadata": {},
   "outputs": [],
   "source": []
  },
  {
   "cell_type": "code",
   "execution_count": null,
   "id": "83a11e0f",
   "metadata": {},
   "outputs": [],
   "source": []
  },
  {
   "cell_type": "code",
   "execution_count": null,
   "id": "cd98450f",
   "metadata": {},
   "outputs": [],
   "source": []
  },
  {
   "cell_type": "code",
   "execution_count": null,
   "id": "c753764f",
   "metadata": {},
   "outputs": [],
   "source": []
  },
  {
   "cell_type": "code",
   "execution_count": null,
   "id": "8773103d",
   "metadata": {},
   "outputs": [],
   "source": []
  },
  {
   "cell_type": "code",
   "execution_count": null,
   "id": "0ceb913e",
   "metadata": {},
   "outputs": [],
   "source": []
  },
  {
   "cell_type": "code",
   "execution_count": null,
   "id": "69688d30",
   "metadata": {},
   "outputs": [],
   "source": []
  },
  {
   "cell_type": "code",
   "execution_count": null,
   "id": "6b224f39",
   "metadata": {},
   "outputs": [],
   "source": []
  },
  {
   "cell_type": "code",
   "execution_count": null,
   "id": "fc584703",
   "metadata": {},
   "outputs": [],
   "source": []
  },
  {
   "cell_type": "code",
   "execution_count": null,
   "id": "5df404b7",
   "metadata": {},
   "outputs": [],
   "source": []
  },
  {
   "cell_type": "code",
   "execution_count": null,
   "id": "27a676e7",
   "metadata": {},
   "outputs": [],
   "source": []
  },
  {
   "cell_type": "code",
   "execution_count": null,
   "id": "dd1acdeb",
   "metadata": {},
   "outputs": [],
   "source": []
  },
  {
   "cell_type": "code",
   "execution_count": null,
   "id": "f1265100",
   "metadata": {},
   "outputs": [],
   "source": []
  },
  {
   "cell_type": "code",
   "execution_count": null,
   "id": "c892d515",
   "metadata": {},
   "outputs": [],
   "source": []
  }
 ],
 "metadata": {
  "colab": {
   "collapsed_sections": [],
   "name": "EDA_DATACLEANING.ipynb",
   "provenance": []
  },
  "kernelspec": {
   "display_name": "Python 3 (ipykernel)",
   "language": "python",
   "name": "python3"
  },
  "language_info": {
   "codemirror_mode": {
    "name": "ipython",
    "version": 3
   },
   "file_extension": ".py",
   "mimetype": "text/x-python",
   "name": "python",
   "nbconvert_exporter": "python",
   "pygments_lexer": "ipython3",
   "version": "3.9.7"
  }
 },
 "nbformat": 4,
 "nbformat_minor": 5
}
